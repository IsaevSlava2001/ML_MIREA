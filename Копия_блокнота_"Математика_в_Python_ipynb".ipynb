{
  "nbformat": 4,
  "nbformat_minor": 0,
  "metadata": {
    "hide_input": false,
    "kernelspec": {
      "display_name": "Python 3",
      "name": "python3"
    },
    "language_info": {
      "codemirror_mode": {
        "name": "ipython",
        "version": 3
      },
      "file_extension": ".py",
      "mimetype": "text/x-python",
      "name": "python",
      "nbconvert_exporter": "python",
      "pygments_lexer": "ipython3",
      "version": "3.7.6"
    },
    "latex_envs": {
      "LaTeX_envs_menu_present": true,
      "autoclose": false,
      "autocomplete": true,
      "bibliofile": "biblio.bib",
      "cite_by": "apalike",
      "current_citInitial": 1,
      "eqLabelWithNumbers": true,
      "eqNumInitial": 1,
      "hotkeys": {
        "equation": "Ctrl-E",
        "itemize": "Ctrl-I"
      },
      "labels_anchors": false,
      "latex_user_defs": false,
      "report_style_numbering": false,
      "user_envs_cfg": false
    },
    "nbTranslate": {
      "displayLangs": [
        "*"
      ],
      "hotkey": "alt-t",
      "langInMainMenu": true,
      "sourceLang": "en",
      "targetLang": "fr",
      "useGoogleTranslate": true
    },
    "toc": {
      "base_numbering": 1,
      "nav_menu": {},
      "number_sections": false,
      "sideBar": true,
      "skip_h1_title": true,
      "title_cell": "Table of Contents",
      "title_sidebar": "Contents",
      "toc_cell": false,
      "toc_position": {},
      "toc_section_display": true,
      "toc_window_display": false
    },
    "varInspector": {
      "cols": {
        "lenName": 16,
        "lenType": 16,
        "lenVar": 40
      },
      "kernels_config": {
        "python": {
          "delete_cmd_postfix": "",
          "delete_cmd_prefix": "del ",
          "library": "var_list.py",
          "varRefreshCmd": "print(var_dic_list())"
        },
        "r": {
          "delete_cmd_postfix": ") ",
          "delete_cmd_prefix": "rm(",
          "library": "var_list.r",
          "varRefreshCmd": "cat(var_dic_list()) "
        }
      },
      "types_to_exclude": [
        "module",
        "function",
        "builtin_function_or_method",
        "instance",
        "_Feature"
      ],
      "window_display": false
    },
    "colab": {
      "provenance": [],
      "collapsed_sections": [
        "KlA_LeBPx4kr"
      ],
      "include_colab_link": true
    }
  },
  "cells": [
    {
      "cell_type": "markdown",
      "metadata": {
        "id": "view-in-github",
        "colab_type": "text"
      },
      "source": [
        "<a href=\"https://colab.research.google.com/github/IsaevSlava2001/ML_MIREA/blob/main/%D0%9A%D0%BE%D0%BF%D0%B8%D1%8F_%D0%B1%D0%BB%D0%BE%D0%BA%D0%BD%D0%BE%D1%82%D0%B0_%22%D0%9C%D0%B0%D1%82%D0%B5%D0%BC%D0%B0%D1%82%D0%B8%D0%BA%D0%B0_%D0%B2_Python_ipynb%22.ipynb\" target=\"_parent\"><img src=\"https://colab.research.google.com/assets/colab-badge.svg\" alt=\"Open In Colab\"/></a>"
      ]
    },
    {
      "cell_type": "markdown",
      "metadata": {
        "id": "7CatsVNZSUtt"
      },
      "source": [
        "# Перед началом работы\n",
        "\n",
        "В Colab, среде которой мы работаем, все файлы, загруженные нами, будут удалены после завершения работы. Чтобы сохранить все файлы мы сделали GitHub репозиторий и будем его каждый раз подключать заново. Для этого выполняем команду\n",
        "\n",
        "`!git clone https://github.com/neuralcomputer/ML_School.git`\n",
        "\n",
        "Все данные скачаются, загрузятся в среду в папку ML_School/\n",
        "\n",
        "Всегда будем писать такой путь к файлам.\n",
        "\n",
        "Если вы работаете на локальном компьютере, то необходимо писать путь для вашего компьютера."
      ]
    },
    {
      "cell_type": "code",
      "metadata": {
        "colab": {
          "base_uri": "https://localhost:8080/"
        },
        "id": "qOvprswWSls4",
        "outputId": "2d997228-e8fc-4245-a4c3-ddbe1a942d31"
      },
      "source": [
        "!git clone https://github.com/neuralcomputer/ML_School.git drive/MyDrive/ML_School"
      ],
      "execution_count": null,
      "outputs": [
        {
          "output_type": "stream",
          "name": "stdout",
          "text": [
            "Cloning into 'drive/MyDrive/ML_School'...\n",
            "remote: Enumerating objects: 91, done.\u001b[K\n",
            "remote: Counting objects: 100% (12/12), done.\u001b[K\n",
            "remote: Compressing objects: 100% (12/12), done.\u001b[K\n",
            "remote: Total 91 (delta 4), reused 0 (delta 0), pack-reused 79\u001b[K\n",
            "Receiving objects: 100% (91/91), 26.02 MiB | 13.55 MiB/s, done.\n",
            "Resolving deltas: 100% (28/28), done.\n"
          ]
        }
      ]
    },
    {
      "cell_type": "markdown",
      "metadata": {
        "id": "JfcjVMNAx4kW"
      },
      "source": [
        "# Математика в Python\n",
        "Приветствую! Мы начинаем изучение замечательной области машинного обучения, которая позволяет обучать компьютеры решать многие задачи образом, похожим на то, как обучается человек.\n",
        "В курсе мы будем пользоваться многими библиотеками замечательного языка Python, с которым вы немного знакомы. И прежде чем начинать изучать машинное обучение мы познакомимся со способами работы и отображения данных.   \n",
        "\n",
        "Сегодня мы посмотрим, как можно выполнять математические операции в Python, посмотрим на разные типы *объектов* и переменных.\n",
        "\n",
        "Объект - это то, что действительно хранится в определенном месте памяти компьютера. Конечно, там хранятся только последовательности из 0 и 1, но мы можем по-разному *представлять* себе к чему такие последовательности относятся. В нашем представлении это могут быть числа, это могут быть строки, изображения, и все что угодно. Важно правильно хранить и правильно обращаться (или как говорят *читать*) к этим данным. Чтобы человеку-программисту было понятно с каким объектом он работает, объект имеет название или, по-другому, *имя*.\n",
        "\n",
        "По своей сути *имя* объекта для человека это название, но для компьютера это *адрес* (ссылка, номер) ячейки памяти, где хранится объект. Если объект хранится в нескольких ячейках, то имя это  адрес первой ячейки.\n",
        "\n",
        "Надо различать имя переменной и ее содержимое, т.е. тот объект, на который она ссылается. Обычно одному объекту соответствует одно имя, но может быть и по-другому. Один и тот же объект может иметь два и больше имен, это бывает удобно для программиста, если надо, а не хочется переименовать свой объект.\n",
        "\n",
        "Один из типов данных, и самый важный, это *числа*.\n",
        "\n",
        "Одно число называют *скаляр* и с ним можно выполнять разные математические операции.\n",
        "\n",
        "Набор (говорят *массив* или *тензор*) из нескольких чисел можно представить по-разному, в одномерном, двумерном, трехмерном варианте или даже больше.\n",
        "\n",
        "![img](https://drive.google.com/uc?id=13UY_qQy4w_GhJS-VXOHHg2yPFaml72Lt)\n",
        "\n",
        "Одномерный массив называется *вектор* (или строка), двумерный - *матрица*. Многомерный называют просто массивом указывая его размерность. Часто трехмерный массив называют *тензор*, хотя это неправильно, тензор может быть любой размерности.\n",
        "\n",
        "В массивах (а мы помним, что массив это набор чисел) важно не только количество элементов, но и как именно они расположены, массивы имеют *форму*. 30 чисел можно по-разному расположить:\n",
        "\n",
        "  * друг за другом в одной строке - получим одномерный массив - строку.\n",
        "  * друг под другом в одном столбце -  получим тоже одномерный массив, но уже вектор.\n",
        "  * 6 строк, в каждой по 5 элементов - получили матрицу размером 6 * 5\n",
        "  * 5 строк, в каждой по 6 элементов - получили матрицу размером 5 * 6\n",
        "  * 3 строки по 5 элементов - получим матрицу 3 * 5 и сделаем еще одну матрицу 3 * 5 - получили две матрицы одинакового размера, можем их поставить друг за другом и представить как параллелепипед - получили трехмерный массив.\n",
        "  \n",
        "  И так далее, придумайте свои варианты размещения элементов и определите форму (размерность и размеры) массива.\n",
        "  \n",
        "\n"
      ]
    },
    {
      "cell_type": "markdown",
      "metadata": {
        "id": "mYsORhlBx4kY"
      },
      "source": [
        "# 1. Математические операции со скалярами.\n",
        "Со скалярами можно выполнять разные математические операции. Многие библиотеки (модули) имеют уже готовые решения для этого, базовые операции встроены в сам Python."
      ]
    },
    {
      "cell_type": "code",
      "metadata": {
        "ExecuteTime": {
          "end_time": "2020-10-11T07:27:37.151072Z",
          "start_time": "2020-10-11T07:27:37.148072Z"
        },
        "id": "W4uffvkYx4ka"
      },
      "source": [
        "a=5     # зададим число a\n",
        "b=0.3   # зададим число b"
      ],
      "execution_count": null,
      "outputs": []
    },
    {
      "cell_type": "code",
      "source": [
        "a"
      ],
      "metadata": {
        "colab": {
          "base_uri": "https://localhost:8080/"
        },
        "id": "_pH6-LRFWDXF",
        "outputId": "167dd72e-1045-4ccd-e367-d9addd2482f9"
      },
      "execution_count": null,
      "outputs": [
        {
          "output_type": "execute_result",
          "data": {
            "text/plain": [
              "5"
            ]
          },
          "metadata": {},
          "execution_count": 4
        }
      ]
    },
    {
      "cell_type": "code",
      "metadata": {
        "ExecuteTime": {
          "end_time": "2020-10-11T07:27:37.207075Z",
          "start_time": "2020-10-11T07:27:37.199075Z"
        },
        "id": "zy1wQ_bHx4ka"
      },
      "source": [
        "c=a+7 # сложение чисел"
      ],
      "execution_count": null,
      "outputs": []
    },
    {
      "cell_type": "code",
      "source": [
        "c"
      ],
      "metadata": {
        "colab": {
          "base_uri": "https://localhost:8080/"
        },
        "id": "ksoHN8g56PJO",
        "outputId": "8d55a5fe-722e-4628-b513-8b45e9b14ee7"
      },
      "execution_count": null,
      "outputs": [
        {
          "output_type": "execute_result",
          "data": {
            "text/plain": [
              "12"
            ]
          },
          "metadata": {},
          "execution_count": 6
        }
      ]
    },
    {
      "cell_type": "code",
      "metadata": {
        "ExecuteTime": {
          "end_time": "2020-10-11T07:27:37.254078Z",
          "start_time": "2020-10-11T07:27:37.251078Z"
        },
        "colab": {
          "base_uri": "https://localhost:8080/"
        },
        "id": "f-nVyje2x4kb",
        "outputId": "9d95fd36-982f-4037-d964-aed28a21dd2d"
      },
      "source": [
        "a-b # вычитание чисел"
      ],
      "execution_count": null,
      "outputs": [
        {
          "output_type": "execute_result",
          "data": {
            "text/plain": [
              "4.7"
            ]
          },
          "metadata": {},
          "execution_count": 7
        }
      ]
    },
    {
      "cell_type": "code",
      "metadata": {
        "ExecuteTime": {
          "end_time": "2020-10-11T07:27:37.304081Z",
          "start_time": "2020-10-11T07:27:37.301081Z"
        },
        "colab": {
          "base_uri": "https://localhost:8080/"
        },
        "id": "uNuNOsZIx4kc",
        "outputId": "9054c8e1-3bbb-49d8-dbbd-b8abf351082c"
      },
      "source": [
        "a*b # умножение чисел"
      ],
      "execution_count": null,
      "outputs": [
        {
          "output_type": "execute_result",
          "data": {
            "text/plain": [
              "1.5"
            ]
          },
          "metadata": {},
          "execution_count": 8
        }
      ]
    },
    {
      "cell_type": "code",
      "metadata": {
        "ExecuteTime": {
          "end_time": "2020-10-11T07:27:37.354084Z",
          "start_time": "2020-10-11T07:27:37.351083Z"
        },
        "colab": {
          "base_uri": "https://localhost:8080/"
        },
        "id": "hVFH0gnmx4kd",
        "outputId": "00d8787c-11e9-4609-e814-ba0d9dad2394"
      },
      "source": [
        "a/b # деление чисел"
      ],
      "execution_count": null,
      "outputs": [
        {
          "output_type": "execute_result",
          "data": {
            "text/plain": [
              "16.666666666666668"
            ]
          },
          "metadata": {},
          "execution_count": 9
        }
      ]
    },
    {
      "cell_type": "code",
      "metadata": {
        "ExecuteTime": {
          "end_time": "2020-10-11T07:27:37.403086Z",
          "start_time": "2020-10-11T07:27:37.401086Z"
        },
        "id": "J7oGOmNgx4ke"
      },
      "source": [
        "# Раскомментируйте две строчки ниже и попробуйте поделить на ноль.\n",
        "#b=0 # а если поделим на 0?\n",
        "#a/b # возникнет ошибка, на 0 делить нельзя."
      ],
      "execution_count": null,
      "outputs": []
    },
    {
      "cell_type": "markdown",
      "metadata": {
        "id": "Pr0zU0rwx4ke"
      },
      "source": [
        "# 2. Модуль `math`\n",
        "Для более сложных операций рассмотрим модуль [`math`](https://pythonworld.ru/moduli/modul-math.html).\n",
        "\n",
        "Сначала его нужно подключить с помощью команды `import`."
      ]
    },
    {
      "cell_type": "code",
      "metadata": {
        "ExecuteTime": {
          "end_time": "2020-10-11T07:27:37.502092Z",
          "start_time": "2020-10-11T07:27:37.499092Z"
        },
        "id": "vUUhoRDHx4kf"
      },
      "source": [
        "import math"
      ],
      "execution_count": null,
      "outputs": []
    },
    {
      "cell_type": "code",
      "source": [
        "#math"
      ],
      "metadata": {
        "id": "Q4nDJ2wUXd-K"
      },
      "execution_count": null,
      "outputs": []
    },
    {
      "cell_type": "markdown",
      "metadata": {
        "id": "XRa5WklVx4kf"
      },
      "source": [
        "## Округление\n",
        "Попробуйте округлять разные числа *a* и ответьте, чем отличаются эти два способа `ceil` и `floor`."
      ]
    },
    {
      "cell_type": "code",
      "source": [],
      "metadata": {
        "id": "uVkRiWOit2TT"
      },
      "execution_count": null,
      "outputs": []
    },
    {
      "cell_type": "code",
      "metadata": {
        "ExecuteTime": {
          "end_time": "2020-10-11T07:27:37.601098Z",
          "start_time": "2020-10-11T07:27:37.597097Z"
        },
        "colab": {
          "base_uri": "https://localhost:8080/"
        },
        "id": "QxicR5NMx4kg",
        "outputId": "cefcdfc9-bc14-425a-8502-f974667360f4"
      },
      "source": [
        "# Округление\n",
        "a=3.2\n",
        "b=math.ceil(a) # округление к ближайшему большему целому.\n",
        "c=math.floor(a) #округление вниз\n",
        "b, c"
      ],
      "execution_count": null,
      "outputs": [
        {
          "output_type": "execute_result",
          "data": {
            "text/plain": [
              "(4, 3)"
            ]
          },
          "metadata": {},
          "execution_count": 13
        }
      ]
    },
    {
      "cell_type": "markdown",
      "metadata": {
        "id": "bNTWm6nPx4kh"
      },
      "source": [
        "## Модуль числа\n",
        "Попробуйте для положительных и отрицательных чисел."
      ]
    },
    {
      "cell_type": "code",
      "metadata": {
        "ExecuteTime": {
          "end_time": "2020-10-11T07:27:37.695103Z",
          "start_time": "2020-10-11T07:27:37.692103Z"
        },
        "id": "dcrydaQ3x4kh"
      },
      "source": [
        "a=-7\n",
        "d=math.fabs(a)"
      ],
      "execution_count": null,
      "outputs": []
    },
    {
      "cell_type": "markdown",
      "metadata": {
        "id": "XvCf2yTGx4kh"
      },
      "source": [
        "## Остаток от деления $c=mod_b(a)$\n",
        "Попробуйте для разных целых чисел __a__ и __b__ и скажите, что же это за функция `fmod`.\n",
        "\n",
        "Могут ли __a__ и __b__ быть отрицательными?\n",
        "\n",
        "Может ли __a=0__? Может ли __b=0__? Может ли __b=1__, какой будет результат в этом случае?\n",
        "\n",
        "> В отличии от того, чему нас учат в школе, в этой функции __a__ и __b__ могут быть дробными. Но мы таким пользоваться не будем."
      ]
    },
    {
      "cell_type": "code",
      "metadata": {
        "ExecuteTime": {
          "end_time": "2020-10-11T07:27:37.793109Z",
          "start_time": "2020-10-11T07:27:37.789108Z"
        },
        "colab": {
          "base_uri": "https://localhost:8080/"
        },
        "id": "jhEEmVvsx4ki",
        "outputId": "a9e83621-d794-41ee-c4ce-0137ee88febd"
      },
      "source": [
        "a=7\n",
        "b=2\n",
        "math.fmod(a,b)"
      ],
      "execution_count": null,
      "outputs": [
        {
          "output_type": "execute_result",
          "data": {
            "text/plain": [
              "1.0"
            ]
          },
          "metadata": {},
          "execution_count": 15
        }
      ]
    },
    {
      "cell_type": "markdown",
      "metadata": {
        "id": "skh5TSHWx4ki"
      },
      "source": [
        "## Константы\n",
        "Посмотрите на результат и скажите, что за константы мы тут получили? Что вы про них знаете?"
      ]
    },
    {
      "cell_type": "code",
      "metadata": {
        "ExecuteTime": {
          "end_time": "2020-10-11T07:27:37.885114Z",
          "start_time": "2020-10-11T07:27:37.882114Z"
        },
        "colab": {
          "base_uri": "https://localhost:8080/"
        },
        "id": "8aMQ2F-Nx4ki",
        "outputId": "3959fbf9-b118-4723-ffac-d95691e08299"
      },
      "source": [
        "math.pi"
      ],
      "execution_count": null,
      "outputs": [
        {
          "output_type": "execute_result",
          "data": {
            "text/plain": [
              "3.141592653589793"
            ]
          },
          "metadata": {},
          "execution_count": 16
        }
      ]
    },
    {
      "cell_type": "code",
      "metadata": {
        "ExecuteTime": {
          "end_time": "2020-10-11T07:27:37.935117Z",
          "start_time": "2020-10-11T07:27:37.931117Z"
        },
        "colab": {
          "base_uri": "https://localhost:8080/"
        },
        "id": "ehCOx7-Gx4kj",
        "outputId": "58ba8a67-c36a-4ea0-d568-75238d628d0e"
      },
      "source": [
        "math.e"
      ],
      "execution_count": null,
      "outputs": [
        {
          "output_type": "execute_result",
          "data": {
            "text/plain": [
              "2.718281828459045"
            ]
          },
          "metadata": {},
          "execution_count": 17
        }
      ]
    },
    {
      "cell_type": "markdown",
      "metadata": {
        "id": "6nt7DZ4mx4kk"
      },
      "source": [
        "## Возведение в степень, экспонента, логарифм.\n",
        "\n",
        "### Возведение в степень: $с=a^b$\n",
        "\n",
        "Попробуйте для разных чисел a и b.\n",
        "\n",
        "Что если a=0, а если b = 0? Может ли а или b быть отрицательным? Нецелым?\n",
        "\n",
        "Что мы получим если b=0.5? Как такую операцию назвать по-другому?\n",
        "\n",
        "А если b=0.5 и a - отрицательное?\n"
      ]
    },
    {
      "cell_type": "code",
      "metadata": {
        "ExecuteTime": {
          "end_time": "2020-10-11T07:27:38.032122Z",
          "start_time": "2020-10-11T07:27:38.028122Z"
        },
        "colab": {
          "base_uri": "https://localhost:8080/"
        },
        "id": "TA3EDJDyx4kk",
        "outputId": "ffa76545-813c-449f-c2b6-1fd39de038b8"
      },
      "source": [
        "# Возведение в степень.\n",
        "a=3\n",
        "b=4\n",
        "math.pow(a, b)"
      ],
      "execution_count": null,
      "outputs": [
        {
          "output_type": "execute_result",
          "data": {
            "text/plain": [
              "81.0"
            ]
          },
          "metadata": {},
          "execution_count": 18
        }
      ]
    },
    {
      "cell_type": "markdown",
      "metadata": {
        "id": "a7XvSLf0x4kk"
      },
      "source": [
        "\n",
        "### Корень квадратный: $с=\\sqrt{a}$\n",
        "\n",
        "Функция `sqrt()`.\n",
        "\n",
        "Попробуйте для разных чисел __a__\n",
        "\n",
        "Что если __a=0__? Может ли __а__ быть отрицательным? Нецелым?\n",
        "\n",
        "А как извлечь корень третьей степени?\n"
      ]
    },
    {
      "cell_type": "code",
      "metadata": {
        "ExecuteTime": {
          "end_time": "2020-10-11T07:27:38.129128Z",
          "start_time": "2020-10-11T07:27:38.126128Z"
        },
        "colab": {
          "base_uri": "https://localhost:8080/"
        },
        "id": "MNk66GNKx4kk",
        "outputId": "20b139e8-55e4-4aaa-af65-d87da3af7a93"
      },
      "source": [
        "# Корень квадратный.\n",
        "a=16\n",
        "math.sqrt(a)"
      ],
      "execution_count": null,
      "outputs": [
        {
          "output_type": "execute_result",
          "data": {
            "text/plain": [
              "4.0"
            ]
          },
          "metadata": {},
          "execution_count": 19
        }
      ]
    },
    {
      "cell_type": "code",
      "metadata": {
        "ExecuteTime": {
          "end_time": "2020-10-11T07:27:38.180131Z",
          "start_time": "2020-10-11T07:27:38.177131Z"
        },
        "colab": {
          "base_uri": "https://localhost:8080/"
        },
        "id": "Our0orC9x4kl",
        "outputId": "2f7dd994-ea25-434f-ed41-6a4fe78321d1"
      },
      "source": [
        "# Корень кубический.\n",
        "a=8\n",
        "math.pow(a,1/3)"
      ],
      "execution_count": null,
      "outputs": [
        {
          "output_type": "execute_result",
          "data": {
            "text/plain": [
              "2.0"
            ]
          },
          "metadata": {},
          "execution_count": 20
        }
      ]
    },
    {
      "cell_type": "markdown",
      "metadata": {
        "id": "fKOtjwXFx4kl"
      },
      "source": [
        "### Экспонента $с=e^b$\n",
        "Очень часто в качестве основания __a__ используют экспоненту. Для этой операции сделали отдельную функцию.\n",
        "\n",
        "Попробуйте сделать тоже самое с помощью `pow()`."
      ]
    },
    {
      "cell_type": "code",
      "metadata": {
        "ExecuteTime": {
          "end_time": "2020-10-11T07:27:38.277136Z",
          "start_time": "2020-10-11T07:27:38.274136Z"
        },
        "colab": {
          "base_uri": "https://localhost:8080/"
        },
        "id": "WXBtqGinx4km",
        "outputId": "7af6b2ed-9c14-4233-c9b6-058e8b71e44f"
      },
      "source": [
        "b=10\n",
        "math.exp(b)"
      ],
      "execution_count": null,
      "outputs": [
        {
          "output_type": "execute_result",
          "data": {
            "text/plain": [
              "22026.465794806718"
            ]
          },
          "metadata": {},
          "execution_count": 21
        }
      ]
    },
    {
      "cell_type": "code",
      "metadata": {
        "ExecuteTime": {
          "end_time": "2020-10-11T07:27:38.330139Z",
          "start_time": "2020-10-11T07:27:38.326139Z"
        },
        "colab": {
          "base_uri": "https://localhost:8080/"
        },
        "id": "dSK9gMnWx4km",
        "outputId": "c8e25344-5e48-48e3-bfd6-12ed18bfa724"
      },
      "source": [
        "math.pow(math.e,b)"
      ],
      "execution_count": null,
      "outputs": [
        {
          "output_type": "execute_result",
          "data": {
            "text/plain": [
              "22026.465794806703"
            ]
          },
          "metadata": {},
          "execution_count": 22
        }
      ]
    },
    {
      "cell_type": "markdown",
      "metadata": {
        "id": "hVub510_x4kn"
      },
      "source": [
        "# Логарифм $b=log_a(c)$\n",
        "Если мы знаем результат возведения в степень __c__, знаем основание __a__, а хотим узнать, какая же степень __b__ должна при этом быть, то нам на помощь придет *логарифм*, функция `log()`.\n",
        "\n",
        "Указываем сначала __c__ от которого мы ищем логарифм, а потом, необязательно, основание __a__ по которому мы ищем логарифм. Если основание не указано - используется *натуральный логарифм*.\n",
        "\n",
        "Попробуйте с разными числами.\n",
        "\n",
        "Может ли __с=0__? А меньше нуля может быть?\n",
        "\n",
        "А если __c=1__, какой будет результат? Зависит ли он от __a__?\n",
        "\n",
        "Может ли __a=0__ , __a=1__? А отрицательным __a__ может быть?  А дробным?\n",
        "\n",
        "\n",
        "\n"
      ]
    },
    {
      "cell_type": "code",
      "metadata": {
        "ExecuteTime": {
          "end_time": "2020-10-11T07:27:38.428145Z",
          "start_time": "2020-10-11T07:27:38.424145Z"
        },
        "colab": {
          "base_uri": "https://localhost:8080/"
        },
        "id": "YlBM3X9Ix4kn",
        "outputId": "a232716f-a234-4a24-ca67-0b75a0adb3b4"
      },
      "source": [
        "c=81\n",
        "a=0.3\n",
        "#math.log(x[, base])\n",
        "math.log(c, a)"
      ],
      "execution_count": null,
      "outputs": [
        {
          "output_type": "execute_result",
          "data": {
            "text/plain": [
              "-3.6499571575727936"
            ]
          },
          "metadata": {},
          "execution_count": 23
        }
      ]
    },
    {
      "cell_type": "markdown",
      "metadata": {
        "id": "2T-EzRNAx4ko"
      },
      "source": [
        "Наиболее часто используемые основания логарифмов сделаны в отдельных функциях, так быстрей и точней считать.\n",
        "\n",
        "Двоичный логарифм, по основанию __a=2__: `log2`\n",
        "\n",
        "Десятичный логарифм, по основанию __a=10__: `log10`\n",
        "\n",
        "А как сделать *натуральный логарифм*? Какое у него основание?"
      ]
    },
    {
      "cell_type": "code",
      "metadata": {
        "ExecuteTime": {
          "end_time": "2020-10-11T07:27:38.521150Z",
          "start_time": "2020-10-11T07:27:38.518150Z"
        },
        "colab": {
          "base_uri": "https://localhost:8080/"
        },
        "id": "UiP4ctQ7x4ko",
        "outputId": "f3c23aff-c0ad-4ed9-e623-9d28f6fc9d75"
      },
      "source": [
        "с=4\n",
        "math.log2(с)"
      ],
      "execution_count": null,
      "outputs": [
        {
          "output_type": "execute_result",
          "data": {
            "text/plain": [
              "2.0"
            ]
          },
          "metadata": {},
          "execution_count": 24
        }
      ]
    },
    {
      "cell_type": "code",
      "metadata": {
        "ExecuteTime": {
          "end_time": "2020-10-11T07:27:38.571153Z",
          "start_time": "2020-10-11T07:27:38.568153Z"
        },
        "colab": {
          "base_uri": "https://localhost:8080/"
        },
        "id": "lqowEqktx4ko",
        "outputId": "a12912bf-ef39-41e2-8ca9-26afdb6b8c29"
      },
      "source": [
        "с=100\n",
        "math.log10(с)"
      ],
      "execution_count": null,
      "outputs": [
        {
          "output_type": "execute_result",
          "data": {
            "text/plain": [
              "2.0"
            ]
          },
          "metadata": {},
          "execution_count": 25
        }
      ]
    },
    {
      "cell_type": "code",
      "metadata": {
        "ExecuteTime": {
          "end_time": "2020-10-11T07:27:38.621156Z",
          "start_time": "2020-10-11T07:27:38.618156Z"
        },
        "colab": {
          "base_uri": "https://localhost:8080/"
        },
        "id": "lOcMwrZex4ko",
        "outputId": "d9c70b65-2b72-467f-d9fd-89fd447d37d4"
      },
      "source": [
        "с=math.e*math.e\n",
        "math.log(с)"
      ],
      "execution_count": null,
      "outputs": [
        {
          "output_type": "execute_result",
          "data": {
            "text/plain": [
              "2.0"
            ]
          },
          "metadata": {},
          "execution_count": 26
        }
      ]
    },
    {
      "cell_type": "markdown",
      "metadata": {
        "id": "qpJaUnc7x4ko"
      },
      "source": [
        "## Тригонометрические функции\n",
        "\n",
        "- синус `sin`\n",
        "\n",
        "- косинус `cos`\n",
        "\n",
        "- тангенс `tan`\n",
        "\n",
        "- арктангенс `atan` (обратная функция для тангенса) - часто используется в нейронных сетях.\n",
        "\n",
        "- гиперболический тангенс `tanh` - тоже часто используется в нейронных сетях.\n",
        "\n",
        "- и другие...\n",
        "\n",
        "Для известных углов (например, 0, pi/4, pi/2 ,2 * pi и др.) посчитайте сами и сравните с расчетом в Питоне.\n",
        "\n",
        "__Все углы указываются в радианах!__\n"
      ]
    },
    {
      "cell_type": "code",
      "metadata": {
        "ExecuteTime": {
          "end_time": "2020-10-11T07:27:38.725162Z",
          "start_time": "2020-10-11T07:27:38.722162Z"
        },
        "id": "x7GRQDJJx4ko"
      },
      "source": [
        "x = math.pi/4 # зададим угол"
      ],
      "execution_count": null,
      "outputs": []
    },
    {
      "cell_type": "code",
      "metadata": {
        "ExecuteTime": {
          "end_time": "2020-10-11T07:27:38.776165Z",
          "start_time": "2020-10-11T07:27:38.772165Z"
        },
        "colab": {
          "base_uri": "https://localhost:8080/"
        },
        "id": "bvs6S8s-x4kp",
        "outputId": "8535ffdd-fa1e-4732-c91f-5670558eddd1"
      },
      "source": [
        "math.cos(x)"
      ],
      "execution_count": null,
      "outputs": [
        {
          "output_type": "execute_result",
          "data": {
            "text/plain": [
              "0.7071067811865476"
            ]
          },
          "metadata": {},
          "execution_count": 28
        }
      ]
    },
    {
      "cell_type": "code",
      "metadata": {
        "ExecuteTime": {
          "end_time": "2020-10-11T07:27:38.826168Z",
          "start_time": "2020-10-11T07:27:38.822168Z"
        },
        "colab": {
          "base_uri": "https://localhost:8080/"
        },
        "id": "1W7SmLayx4kp",
        "outputId": "72c605d4-4164-4496-aab8-076aa4991abb"
      },
      "source": [
        "math.sin(x)\n",
        "\n"
      ],
      "execution_count": null,
      "outputs": [
        {
          "output_type": "execute_result",
          "data": {
            "text/plain": [
              "0.7071067811865475"
            ]
          },
          "metadata": {},
          "execution_count": 29
        }
      ]
    },
    {
      "cell_type": "code",
      "metadata": {
        "ExecuteTime": {
          "end_time": "2020-10-11T07:27:38.877171Z",
          "start_time": "2020-10-11T07:27:38.874170Z"
        },
        "colab": {
          "base_uri": "https://localhost:8080/"
        },
        "id": "yeHVtw-ex4kq",
        "outputId": "70a93b84-8734-4167-9e91-462165eddca2"
      },
      "source": [
        "#x = math.pi/2 #\n",
        "math.tan(x) # а если x=math.pi/2?\n",
        "\n",
        "\n"
      ],
      "execution_count": null,
      "outputs": [
        {
          "output_type": "execute_result",
          "data": {
            "text/plain": [
              "0.9999999999999999"
            ]
          },
          "metadata": {},
          "execution_count": 30
        }
      ]
    },
    {
      "cell_type": "markdown",
      "metadata": {
        "id": "Q0Bz-bPQx4kq"
      },
      "source": [
        "Арктангенс `atan(x)` - обратная функция для тангенса.\n",
        "\n",
        "Позволяет узнать для какого угла тангенс равен x.\n",
        "\n",
        "Поделим на Pi чтобы узнать этот угол.\n",
        "\n",
        "Узнали?\n"
      ]
    },
    {
      "cell_type": "code",
      "metadata": {
        "ExecuteTime": {
          "end_time": "2020-10-11T07:27:38.973176Z",
          "start_time": "2020-10-11T07:27:38.969176Z"
        },
        "colab": {
          "base_uri": "https://localhost:8080/"
        },
        "id": "bOudwGP_x4kq",
        "outputId": "27e75c58-8b3e-4bef-fb09-eff8a5703e35"
      },
      "source": [
        "# арктангенс - обратная функция для тангенса\n",
        "x=1\n",
        "math.atan(x)/math.pi"
      ],
      "execution_count": null,
      "outputs": [
        {
          "output_type": "execute_result",
          "data": {
            "text/plain": [
              "0.25"
            ]
          },
          "metadata": {},
          "execution_count": 31
        }
      ]
    },
    {
      "cell_type": "markdown",
      "metadata": {
        "id": "opeVcWr6x4kq"
      },
      "source": [
        "Гиперболический тангенс `tanh(x)` - довольно сложная функция, но по форме похожа на арктангенс.\n",
        "\n",
        "> Формула для сведения, можете не запоминать сейчас:\n",
        "> ![picture](https://drive.google.com/uc?id=1X1r5toeJ8xVW7aOvM18TL0OBVKHiT7ww)\n",
        "\n",
        "\n"
      ]
    },
    {
      "cell_type": "code",
      "metadata": {
        "ExecuteTime": {
          "end_time": "2020-10-11T07:27:39.070182Z",
          "start_time": "2020-10-11T07:27:39.067182Z"
        },
        "colab": {
          "base_uri": "https://localhost:8080/"
        },
        "id": "wKosl0URx4kr",
        "outputId": "3366204f-793b-4409-a4f3-0eb4ab51482e"
      },
      "source": [
        "# гипертангенс\n",
        "x=1000000000000\n",
        "math.tanh(x)"
      ],
      "execution_count": null,
      "outputs": [
        {
          "output_type": "execute_result",
          "data": {
            "text/plain": [
              "1.0"
            ]
          },
          "metadata": {},
          "execution_count": 32
        }
      ]
    },
    {
      "cell_type": "markdown",
      "metadata": {
        "id": "EH1eEk3Kx4kr"
      },
      "source": [
        "## Факториал\n",
        "\n",
        "Функция `factorial()`.\n",
        "\n",
        "Находит факториал целого числа, произведение всех целых чисел начиная с единицы до заданного __a__.\n",
        "\n",
        "Обозначается как \"!\"\n",
        "\n",
        "Например 5! = 1 * 2 * 3 * 4 * 5 =120\n",
        "\n",
        "Часто возникает в задачах с комбинациями различных событий.\n",
        "\n",
        "Попробуйте для разных чисел __a__.\n",
        "\n",
        "Может ли __a__ быть отрицательным? Дробным?\n",
        "\n",
        "Чему равен факториал нуля?\n",
        "\n"
      ]
    },
    {
      "cell_type": "code",
      "metadata": {
        "ExecuteTime": {
          "end_time": "2020-10-11T07:27:39.166187Z",
          "start_time": "2020-10-11T07:27:39.162187Z"
        },
        "colab": {
          "base_uri": "https://localhost:8080/"
        },
        "id": "ZVCJ6pcGx4kr",
        "outputId": "763df1bc-ad32-4077-e70d-384024bd50d6"
      },
      "source": [
        "a=2\n",
        "math.factorial(a)"
      ],
      "execution_count": null,
      "outputs": [
        {
          "output_type": "execute_result",
          "data": {
            "text/plain": [
              "2"
            ]
          },
          "metadata": {},
          "execution_count": 33
        }
      ]
    },
    {
      "cell_type": "markdown",
      "metadata": {
        "id": "KlA_LeBPx4kr"
      },
      "source": [
        "## Домашнее задание\n",
        "Изучите документацию на модуль `math`.\n",
        "\n",
        "Посмотрите какие еще в нем есть функции.\n",
        "\n",
        "Ответьте, как сконвертировать градусы в радианы и наоборот.\n",
        "Сделайте это.\n",
        "\n",
        "\n",
        "Что делать, если надо реализовать какую-то математическую функцию, которую вы не знаете, но она нужна? Внимательно читать документацию. Искать ответ в Интернет. Так часто поступают даже профессиональные разработчики  - нельзя все помнить и знать. Но нужно уметь __искать__ информацию.\n",
        "\n",
        "Если какой-то функции нет в этом модуле - поищите в другом."
      ]
    },
    {
      "cell_type": "code",
      "source": [
        "from google.colab import drive\n",
        "drive.mount('/content/drive')"
      ],
      "metadata": {
        "colab": {
          "base_uri": "https://localhost:8080/"
        },
        "id": "YUVF41_Bjp6R",
        "outputId": "6fbc83e2-63ea-4b4a-ceb2-7975e36bcbcb"
      },
      "execution_count": null,
      "outputs": [
        {
          "output_type": "stream",
          "name": "stdout",
          "text": [
            "Mounted at /content/drive\n"
          ]
        }
      ]
    },
    {
      "cell_type": "code",
      "source": [
        "a=90\n",
        "b=math.radians(a)\n",
        "print(b)\n",
        "a=math.degrees(b)\n",
        "print(a)\n"
      ],
      "metadata": {
        "id": "iBYbbpvFivwB",
        "outputId": "65605d25-3228-410b-e748-fcf64208085d",
        "colab": {
          "base_uri": "https://localhost:8080/"
        }
      },
      "execution_count": null,
      "outputs": [
        {
          "output_type": "stream",
          "name": "stdout",
          "text": [
            "1.5707963267948966\n",
            "90.0\n"
          ]
        }
      ]
    },
    {
      "cell_type": "markdown",
      "metadata": {
        "id": "NaFkL1XOx4kr"
      },
      "source": [
        "# 3. Модуль `numpy`\n",
        "\n",
        "Библиотека `numpy` предназначена для работы с массивами. Для нас это самая любимая и часто используемая библиотека. Ее документацию можно посмотреть здесь: https://numpy.org/\n",
        "\n",
        "Numpy создает и обрабатывает массивы как объекты своего собственного класса (типа): [`ndarray`](https://numpy.org/doc/1.18/reference/generated/numpy.ndarray.html#numpy.ndarray)\n",
        "\n",
        "Основные его атрибуты это `shape` - форма массива и `dtype` - тип данных.  \n",
        "\n",
        "Подключим библиотеку с помощью `import`и назовем коротко: `np`\n"
      ]
    },
    {
      "cell_type": "code",
      "metadata": {
        "ExecuteTime": {
          "end_time": "2020-10-11T07:27:39.471205Z",
          "start_time": "2020-10-11T07:27:39.308195Z"
        },
        "id": "FpIBe6Bpx4ks"
      },
      "source": [
        "import numpy as np"
      ],
      "execution_count": null,
      "outputs": []
    },
    {
      "cell_type": "markdown",
      "metadata": {
        "id": "YUSa1g24x4ks"
      },
      "source": [
        "## Создание массивов\n",
        "\n",
        "Для создания массивов используем функцию [`numpy.array()`](https://numpy.org/doc/1.18/reference/generated/numpy.array.html#numpy.array)\n",
        "\n",
        "В ней мы указываем какой массив хотим создать.\n",
        "\n",
        "Создадим массив, отобразим его и посмотрим, как называется его тип. Тип можно узнать с помощью команды `type()` .\n",
        "\n",
        "\n"
      ]
    },
    {
      "cell_type": "code",
      "metadata": {
        "ExecuteTime": {
          "end_time": "2020-10-11T07:27:39.475205Z",
          "start_time": "2020-10-11T07:27:39.473205Z"
        },
        "id": "WfvtOJvUx4ks"
      },
      "source": [
        "a = np.array([1, 2, 3])"
      ],
      "execution_count": null,
      "outputs": []
    },
    {
      "cell_type": "code",
      "metadata": {
        "ExecuteTime": {
          "end_time": "2020-10-11T07:27:39.510207Z",
          "start_time": "2020-10-11T07:27:39.486206Z"
        },
        "id": "g_iuecjKx4ks",
        "colab": {
          "base_uri": "https://localhost:8080/",
          "height": 140
        },
        "outputId": "46d7640c-8653-442b-e700-df7b1fd9203f"
      },
      "source": [
        "a."
      ],
      "execution_count": null,
      "outputs": [
        {
          "output_type": "error",
          "ename": "SyntaxError",
          "evalue": "ignored",
          "traceback": [
            "\u001b[0;36m  File \u001b[0;32m\"<ipython-input-37-b4ce96ddcee0>\"\u001b[0;36m, line \u001b[0;32m1\u001b[0m\n\u001b[0;31m    a.\u001b[0m\n\u001b[0m      ^\u001b[0m\n\u001b[0;31mSyntaxError\u001b[0m\u001b[0;31m:\u001b[0m invalid syntax\n"
          ]
        }
      ]
    },
    {
      "cell_type": "code",
      "metadata": {
        "ExecuteTime": {
          "end_time": "2020-10-11T07:27:39.541209Z",
          "start_time": "2020-10-11T07:27:39.536208Z"
        },
        "id": "9PLGizaUx4kt"
      },
      "source": [
        "type(a)"
      ],
      "execution_count": null,
      "outputs": []
    },
    {
      "cell_type": "code",
      "source": [
        "a.shape"
      ],
      "metadata": {
        "id": "vrvA-iQ_B9_S"
      },
      "execution_count": null,
      "outputs": []
    },
    {
      "cell_type": "markdown",
      "metadata": {
        "id": "YzuFgdIrx4ku"
      },
      "source": [
        "Видим, что тип - `numpy.ndarray` .\n",
        "\n",
        "Это одномерный массив.\n",
        "\n",
        "Теперь создадим двумерный массив (матрицу)"
      ]
    },
    {
      "cell_type": "code",
      "metadata": {
        "ExecuteTime": {
          "end_time": "2020-10-11T07:27:39.635214Z",
          "start_time": "2020-10-11T07:27:39.633214Z"
        },
        "id": "l9JeAsWix4ku"
      },
      "source": [
        "b = np.array([[1.5, 2, 3], [4, 5, 6]])"
      ],
      "execution_count": null,
      "outputs": []
    },
    {
      "cell_type": "code",
      "metadata": {
        "ExecuteTime": {
          "end_time": "2020-10-11T07:27:39.688217Z",
          "start_time": "2020-10-11T07:27:39.682217Z"
        },
        "id": "gSaD7yjjx4ku"
      },
      "source": [
        "b"
      ],
      "execution_count": null,
      "outputs": []
    },
    {
      "cell_type": "code",
      "metadata": {
        "ExecuteTime": {
          "end_time": "2020-10-11T07:27:39.735220Z",
          "start_time": "2020-10-11T07:27:39.732220Z"
        },
        "id": "DZS3olzgx4ku"
      },
      "source": [
        "b.shape"
      ],
      "execution_count": null,
      "outputs": []
    },
    {
      "cell_type": "code",
      "source": [],
      "metadata": {
        "id": "-XjTrA6BSlxy"
      },
      "execution_count": null,
      "outputs": []
    },
    {
      "cell_type": "markdown",
      "metadata": {
        "id": "8nEFSRUjx4ku"
      },
      "source": [
        "Это двумерный массив. Атрибут `shape` показывает нам его форму, он имеет размер 2 на 3: 2 строки, 3 столбца.\n",
        "\n",
        "\n",
        "Чтобы создавать массивы, заполненные какими-то числами, можно воспользоваться специальными функциями.\n",
        "\n",
        "Например\n",
        "\n",
        "`numpy.zeros(...)`  делает массив заданной формы, заполненный нулями\n",
        "   \n",
        "`numpy.ones(...)`  делает массив заданной формы, заполненный единицами\n",
        "\n",
        "Мы указываем число элементов по каждой оси массива - разумеется это натуральные числа."
      ]
    },
    {
      "cell_type": "code",
      "metadata": {
        "ExecuteTime": {
          "end_time": "2020-10-11T07:27:39.830225Z",
          "start_time": "2020-10-11T07:27:39.827225Z"
        },
        "id": "p56Y8MEmx4kv"
      },
      "source": [
        "np.zeros((3, 5)) # двумерный массив из нулей, размером 3 на 5"
      ],
      "execution_count": null,
      "outputs": []
    },
    {
      "cell_type": "code",
      "metadata": {
        "ExecuteTime": {
          "end_time": "2020-10-11T07:27:39.881228Z",
          "start_time": "2020-10-11T07:27:39.877228Z"
        },
        "id": "ipO2AUIhx4kv"
      },
      "source": [
        "np.ones((2, 3, 4)) # трехмерный массив из единиц размером 2 на 3 на 4"
      ],
      "execution_count": null,
      "outputs": []
    },
    {
      "cell_type": "markdown",
      "metadata": {
        "id": "mM1yKAMAx4kv"
      },
      "source": [
        "Создадим любимую для линейной алгебры единичную матрицу с помощью команды `eye()`. Она квадратная, поэтому только один аргумент указываем - число строк. Если очень надо сделать по-другому, например не главную диагональ заполнить, то смотри документацию.   "
      ]
    },
    {
      "cell_type": "code",
      "metadata": {
        "ExecuteTime": {
          "end_time": "2020-10-11T07:27:39.978234Z",
          "start_time": "2020-10-11T07:27:39.973233Z"
        },
        "id": "w_p1ues0x4kv"
      },
      "source": [
        "np.eye(5) # создаем единичную матрицу"
      ],
      "execution_count": null,
      "outputs": []
    },
    {
      "cell_type": "markdown",
      "metadata": {
        "id": "L2Gzx556x4kv"
      },
      "source": [
        "Создать массив, но ничем его не заполнять можно с помощью функции `numpy.empty()`.\n",
        "\n",
        "Заполнен он будет мусором, который остался в памяти, где создается такой массив.\n",
        "Это гораздо быстрее, чем создать и заполнять массив нулями. Но нужно быть осторожным и потом все-таки заполнить массив, потому что мусор может быть любой.  "
      ]
    },
    {
      "cell_type": "code",
      "metadata": {
        "ExecuteTime": {
          "end_time": "2020-10-11T07:27:40.076239Z",
          "start_time": "2020-10-11T07:27:40.073239Z"
        },
        "id": "-BvWjn9Zx4kw"
      },
      "source": [
        "np.empty((3, 3))"
      ],
      "execution_count": null,
      "outputs": []
    },
    {
      "cell_type": "code",
      "metadata": {
        "ExecuteTime": {
          "end_time": "2020-10-11T07:27:40.125242Z",
          "start_time": "2020-10-11T07:27:40.121242Z"
        },
        "id": "tWgwXKAmx4kw"
      },
      "source": [
        "np.empty((3, 2))"
      ],
      "execution_count": null,
      "outputs": []
    },
    {
      "cell_type": "markdown",
      "metadata": {
        "id": "69HM38Sqx4kx"
      },
      "source": [
        "Для создания последовательностей чисел, в NumPy имеется функция `numpy.arange(начало, конец, шаг)`, аналогичная встроенной в Python `range()`, только вместо списков она возвращает массивы, и принимает не только целые значения. Мы указываем __начало__ (необязательно, по умолчанию 0), __конец__ и __шаг__ (тоже не обязательно, по умолчанию 1) нашей последовательности. Конец не входит в последовательность. Шаг может быть отрицательным (но в этом случае конец должен быть меньше начала, иначе вернется пустой массив).\n",
        "\n",
        "Попробуйте сами создать разные последовательности. Что получится если начало и конец совпадают?  А если шаг=0?"
      ]
    },
    {
      "cell_type": "code",
      "metadata": {
        "ExecuteTime": {
          "end_time": "2020-10-11T07:27:40.218247Z",
          "start_time": "2020-10-11T07:27:40.214247Z"
        },
        "id": "ccZ5Xarjx4kx"
      },
      "source": [
        "\n",
        "np.arange(20, 30, 5)"
      ],
      "execution_count": null,
      "outputs": []
    },
    {
      "cell_type": "code",
      "metadata": {
        "ExecuteTime": {
          "end_time": "2020-10-11T07:27:40.271250Z",
          "start_time": "2020-10-11T07:27:40.267250Z"
        },
        "id": "nOj0_YEyx4kx"
      },
      "source": [
        "np.arange(1, 0, -0.1)"
      ],
      "execution_count": null,
      "outputs": []
    },
    {
      "cell_type": "markdown",
      "metadata": {
        "id": "0_KimeSJx4kx"
      },
      "source": [
        "Вывести на экран массив можно командой `print()`."
      ]
    },
    {
      "cell_type": "code",
      "metadata": {
        "ExecuteTime": {
          "end_time": "2020-10-11T07:27:40.368256Z",
          "start_time": "2020-10-11T07:27:40.362256Z"
        },
        "id": "49x7ZEalx4ky"
      },
      "source": [
        "a=np.arange(1,10,0.001)\n",
        "print(a)"
      ],
      "execution_count": null,
      "outputs": []
    },
    {
      "cell_type": "markdown",
      "metadata": {
        "id": "04ZH7Pvyx4ky"
      },
      "source": [
        "Видим, что выводится не весь массив. Это сделано для экономии места.\n",
        "\n",
        "Если хотим задать сколько знаков после запятой выводить в числах, сколько чисел выводить на экран и др. надо задать опции вывода `set_printoptions`:\n",
        "\n",
        "* параметр `treshold`: сколько чисел на экран выводить\n",
        "* параметр `precision`: сколько знаков после запятой выводить в числах\n",
        "\n",
        "Это влияет только на вывод, не на сами значения. Эти свойства будут применяться для всех выводов, не только для текущего, поэтому осторожно.\n"
      ]
    },
    {
      "cell_type": "code",
      "metadata": {
        "ExecuteTime": {
          "end_time": "2020-10-11T07:27:40.464261Z",
          "start_time": "2020-10-11T07:27:40.461261Z"
        },
        "id": "PAnWjCL_x4kz"
      },
      "source": [
        "np.set_printoptions(threshold=10000, precision=2) # будем выводить до 10 десяти тысяч чисел, два знака после запятой."
      ],
      "execution_count": null,
      "outputs": []
    },
    {
      "cell_type": "code",
      "metadata": {
        "ExecuteTime": {
          "end_time": "2020-10-11T07:27:40.573268Z",
          "start_time": "2020-10-11T07:27:40.511264Z"
        },
        "id": "zsMDJtLYx4kz"
      },
      "source": [
        "print(a)"
      ],
      "execution_count": null,
      "outputs": []
    },
    {
      "cell_type": "code",
      "metadata": {
        "ExecuteTime": {
          "end_time": "2020-10-11T07:27:40.578268Z",
          "start_time": "2020-10-11T07:27:40.575268Z"
        },
        "id": "XU9yt3yvx4kz"
      },
      "source": [
        "np.set_printoptions(threshold=1000, precision=8) # вернем параметры по умолчанию\n",
        "print(a)"
      ],
      "execution_count": null,
      "outputs": []
    },
    {
      "cell_type": "markdown",
      "metadata": {
        "id": "YAW6vaHIx4kz"
      },
      "source": [
        "## Базовые операции"
      ]
    },
    {
      "cell_type": "markdown",
      "metadata": {
        "id": "fTLhy7pNx4kz"
      },
      "source": [
        "Основные математические операции над массивами выполняются поэлементно. Создается новый массив, который заполняется результатами."
      ]
    },
    {
      "cell_type": "markdown",
      "metadata": {
        "id": "ZFUiPf7ox4k0"
      },
      "source": [
        "Для выполнения этих операций массивы должны быть одинаковой формы. Если будут разной -  получим ошибку."
      ]
    },
    {
      "cell_type": "code",
      "metadata": {
        "ExecuteTime": {
          "end_time": "2020-10-11T07:27:40.747278Z",
          "start_time": "2020-10-11T07:27:40.743277Z"
        },
        "id": "uu_VWK3Ix4k0"
      },
      "source": [
        "a = np.array([20, 30, 40, 50]) # создадим один массив\n",
        "a"
      ],
      "execution_count": null,
      "outputs": []
    },
    {
      "cell_type": "code",
      "metadata": {
        "ExecuteTime": {
          "end_time": "2020-10-11T07:27:40.797280Z",
          "start_time": "2020-10-11T07:27:40.793280Z"
        },
        "id": "wsB9w82qx4k0"
      },
      "source": [
        "b = np.arange(4) # создадим другой массив\n",
        "b"
      ],
      "execution_count": null,
      "outputs": []
    },
    {
      "cell_type": "code",
      "metadata": {
        "ExecuteTime": {
          "end_time": "2020-10-11T07:27:40.848283Z",
          "start_time": "2020-10-11T07:27:40.844283Z"
        },
        "id": "E6wcGek0x4k0"
      },
      "source": [
        "с=a+b # сложим их\n",
        "с"
      ],
      "execution_count": null,
      "outputs": []
    },
    {
      "cell_type": "code",
      "source": [
        "d=np.array([2,5])"
      ],
      "metadata": {
        "id": "cEGTkeWzdDwi"
      },
      "execution_count": null,
      "outputs": []
    },
    {
      "cell_type": "code",
      "source": [
        "a+d"
      ],
      "metadata": {
        "id": "cWcHXt-ddMYA"
      },
      "execution_count": null,
      "outputs": []
    },
    {
      "cell_type": "code",
      "metadata": {
        "ExecuteTime": {
          "end_time": "2020-10-11T07:27:40.899286Z",
          "start_time": "2020-10-11T07:27:40.895286Z"
        },
        "id": "Xodm7hjkx4k1"
      },
      "source": [
        "с=a - b # вычтем\n",
        "с"
      ],
      "execution_count": null,
      "outputs": []
    },
    {
      "cell_type": "code",
      "metadata": {
        "ExecuteTime": {
          "end_time": "2020-10-11T07:27:40.949289Z",
          "start_time": "2020-10-11T07:27:40.946289Z"
        },
        "id": "IylsLPIHx4k1"
      },
      "source": [
        "с=a*b # умножим поэлементно\n",
        "с"
      ],
      "execution_count": null,
      "outputs": []
    },
    {
      "cell_type": "code",
      "metadata": {
        "ExecuteTime": {
          "end_time": "2020-10-11T07:27:41.003292Z",
          "start_time": "2020-10-11T07:27:40.995292Z"
        },
        "id": "1XjR_rAXx4k2"
      },
      "source": [
        "с=a/b # поделим поэлементно\n",
        "с"
      ],
      "execution_count": null,
      "outputs": []
    },
    {
      "cell_type": "markdown",
      "metadata": {
        "id": "alundxmmx4k2"
      },
      "source": [
        "Ой-ой, что это, мы поделили на 0! Но NumPy справился с этим и вернул нам для такого случая специальное число - бесконечность `inf`. Бесконечности тоже числа, хоть и ненастоящие. Их можно складывать, вычитать,  умножать ...\n",
        "\n",
        "Попробуйте сами и определите, что получается."
      ]
    },
    {
      "cell_type": "code",
      "metadata": {
        "ExecuteTime": {
          "end_time": "2020-10-11T07:27:41.092297Z",
          "start_time": "2020-10-11T07:27:41.089297Z"
        },
        "id": "-NsCmkqHx4k2"
      },
      "source": [
        "np.inf + np.inf"
      ],
      "execution_count": null,
      "outputs": []
    },
    {
      "cell_type": "code",
      "source": [
        "-1*np.inf"
      ],
      "metadata": {
        "id": "PZthI-Fp_098"
      },
      "execution_count": null,
      "outputs": []
    },
    {
      "cell_type": "code",
      "metadata": {
        "ExecuteTime": {
          "end_time": "2020-10-11T07:27:41.142300Z",
          "start_time": "2020-10-11T07:27:41.139300Z"
        },
        "id": "wn3BiYx3x4k2"
      },
      "source": [
        "np.inf * np.inf"
      ],
      "execution_count": null,
      "outputs": []
    },
    {
      "cell_type": "code",
      "metadata": {
        "ExecuteTime": {
          "end_time": "2020-10-11T07:27:41.191303Z",
          "start_time": "2020-10-11T07:27:41.187303Z"
        },
        "id": "bdDkZBpTx4k3"
      },
      "source": [
        "np.inf - np.inf"
      ],
      "execution_count": null,
      "outputs": []
    },
    {
      "cell_type": "markdown",
      "metadata": {
        "id": "53zd0Nqux4k3"
      },
      "source": [
        "При попытке вычесть одну бесконечность `inf` из другой мы тоже что-то получили.\n",
        "А вы знаете сколько будет бесконечность минус бесконечность? А NumPy знает: будет `nan` - не число (not a number).\n",
        "\n",
        "`nan` тоже ненастоящее число, и с ним можно делать математические операции.\n",
        "\n",
        "Попробуйте сами и определите, что получается.\n",
        "\n",
        "Все эти ненастоящие числа нужны чтобы облегчить программирование, но на самом деле они смысла не имеют, и если у вас такое число получилось - что-то не так. Поэтому иногда надо проверять результат, чтобы там не было бесконечностей или \"нечисел\".   "
      ]
    },
    {
      "cell_type": "code",
      "source": [
        "np.nan*(-1)"
      ],
      "metadata": {
        "id": "vDqDAG_eJE0H"
      },
      "execution_count": null,
      "outputs": []
    },
    {
      "cell_type": "code",
      "metadata": {
        "ExecuteTime": {
          "end_time": "2020-10-11T07:27:41.286308Z",
          "start_time": "2020-10-11T07:27:41.282308Z"
        },
        "id": "L6oeyD88x4k3"
      },
      "source": [
        "np.nan+np.nan"
      ],
      "execution_count": null,
      "outputs": []
    },
    {
      "cell_type": "code",
      "source": [
        "np.nan+5"
      ],
      "metadata": {
        "id": "yntlBkF3P6JG"
      },
      "execution_count": null,
      "outputs": []
    },
    {
      "cell_type": "code",
      "metadata": {
        "ExecuteTime": {
          "end_time": "2020-10-11T07:27:41.337311Z",
          "start_time": "2020-10-11T07:27:41.333311Z"
        },
        "id": "M8ZkfAeax4k3"
      },
      "source": [
        "a ** b # возведение в степень, первый аргумент - основание, второй - степень."
      ],
      "execution_count": null,
      "outputs": []
    },
    {
      "cell_type": "code",
      "metadata": {
        "ExecuteTime": {
          "end_time": "2020-10-11T07:27:41.390314Z",
          "start_time": "2020-10-11T07:27:41.386314Z"
        },
        "id": "FtKYI2czx4k3"
      },
      "source": [
        "a % b  # Взятие остатка от деления (при взятии остатка от деления на 0 возвращается 0)"
      ],
      "execution_count": null,
      "outputs": []
    },
    {
      "cell_type": "markdown",
      "metadata": {
        "id": "8J-OjPhdx4k4"
      },
      "source": [
        "Как мы уже отметили, формы массивов должны быть одинаковые (попробуйте что будет если нет).\n",
        "\n",
        "Но есть исключение - когда один из аргументов - скаляр. Тогда он автоматически будет применяться к каждому элементу массива."
      ]
    },
    {
      "cell_type": "code",
      "metadata": {
        "ExecuteTime": {
          "end_time": "2020-10-11T07:27:41.487320Z",
          "start_time": "2020-10-11T07:27:41.483320Z"
        },
        "id": "XP4XIj8mx4k4"
      },
      "source": [
        "a + 1"
      ],
      "execution_count": null,
      "outputs": []
    },
    {
      "cell_type": "code",
      "metadata": {
        "ExecuteTime": {
          "end_time": "2020-10-11T07:27:41.539323Z",
          "start_time": "2020-10-11T07:27:41.535323Z"
        },
        "id": "21FCXQxgx4k4"
      },
      "source": [
        "1 + b"
      ],
      "execution_count": null,
      "outputs": []
    },
    {
      "cell_type": "code",
      "metadata": {
        "ExecuteTime": {
          "end_time": "2020-10-11T07:27:41.590326Z",
          "start_time": "2020-10-11T07:27:41.586326Z"
        },
        "id": "maMJ_dKDx4k5"
      },
      "source": [
        "a ** 3"
      ],
      "execution_count": null,
      "outputs": []
    },
    {
      "cell_type": "code",
      "metadata": {
        "ExecuteTime": {
          "end_time": "2020-10-11T07:27:41.647329Z",
          "start_time": "2020-10-11T07:27:41.643329Z"
        },
        "id": "q5Qan1P5x4k5"
      },
      "source": [
        "2 ** b"
      ],
      "execution_count": null,
      "outputs": []
    },
    {
      "cell_type": "code",
      "source": [
        "a=np.ones((3,1))"
      ],
      "metadata": {
        "id": "KTJqLUH-N31G"
      },
      "execution_count": null,
      "outputs": []
    },
    {
      "cell_type": "code",
      "source": [
        "b=2*np.transpose(a)"
      ],
      "metadata": {
        "id": "mrL8Yj4XOAeB"
      },
      "execution_count": null,
      "outputs": []
    },
    {
      "cell_type": "code",
      "source": [
        "print(a.shape, b.shape)"
      ],
      "metadata": {
        "id": "Bc7y4XgZOJZW"
      },
      "execution_count": null,
      "outputs": []
    },
    {
      "cell_type": "code",
      "source": [
        "a*b # ?????"
      ],
      "metadata": {
        "id": "HTIgcXNVOOwm"
      },
      "execution_count": null,
      "outputs": []
    },
    {
      "cell_type": "markdown",
      "metadata": {
        "id": "QMfeT9c_x4k5"
      },
      "source": [
        "## Тригонометрия, округления\n",
        "В `numpy` как и в `math` реализованы многочисленные тригонометрические операции.\n",
        "\n",
        "Они работают с массивами поэлементно.\n",
        "\n",
        "Округлений гораздо больше, самых разных типов:\n",
        "`ceil()`, `floor()`, но и другие `round()` - округление до заданного числа знаков после запятой, `fix()` - округление до ближайшего целого со стороны нуля.\n",
        "\n",
        "Поупражняйтесь с разными способами округления, сравните.\n"
      ]
    },
    {
      "cell_type": "code",
      "metadata": {
        "ExecuteTime": {
          "end_time": "2020-10-11T07:27:41.749335Z",
          "start_time": "2020-10-11T07:27:41.745335Z"
        },
        "id": "gz1CRhbJx4k5"
      },
      "source": [
        "np.cos(a) # косинус"
      ],
      "execution_count": null,
      "outputs": []
    },
    {
      "cell_type": "code",
      "metadata": {
        "ExecuteTime": {
          "end_time": "2020-10-11T07:27:41.800338Z",
          "start_time": "2020-10-11T07:27:41.797338Z"
        },
        "id": "PWNCsk2fx4k6"
      },
      "source": [
        "np.arctan(a) # арктангенс, название отличается от модуля math"
      ],
      "execution_count": null,
      "outputs": []
    },
    {
      "cell_type": "code",
      "metadata": {
        "ExecuteTime": {
          "end_time": "2020-10-11T07:27:41.852341Z",
          "start_time": "2020-10-11T07:27:41.848341Z"
        },
        "id": "RbKWX1zdx4k6"
      },
      "source": [
        "np.tanh(a) # гипертангенс"
      ],
      "execution_count": null,
      "outputs": []
    },
    {
      "cell_type": "code",
      "metadata": {
        "ExecuteTime": {
          "end_time": "2020-10-11T07:27:41.903344Z",
          "start_time": "2020-10-11T07:27:41.899344Z"
        },
        "id": "hZZctLz6x4k6"
      },
      "source": [
        "c=5*np.cos(a) #\n",
        "c"
      ],
      "execution_count": null,
      "outputs": []
    },
    {
      "cell_type": "code",
      "metadata": {
        "ExecuteTime": {
          "end_time": "2020-10-11T07:27:41.956347Z",
          "start_time": "2020-10-11T07:27:41.951346Z"
        },
        "id": "DxuPBXdDx4k7"
      },
      "source": [
        "np.round(c,2)"
      ],
      "execution_count": null,
      "outputs": []
    },
    {
      "cell_type": "code",
      "metadata": {
        "ExecuteTime": {
          "end_time": "2020-10-11T07:27:42.006350Z",
          "start_time": "2020-10-11T07:27:42.002349Z"
        },
        "id": "dLLubtRax4k8"
      },
      "source": [
        "np.ceil(c)"
      ],
      "execution_count": null,
      "outputs": []
    },
    {
      "cell_type": "code",
      "metadata": {
        "ExecuteTime": {
          "end_time": "2020-10-11T07:27:42.058353Z",
          "start_time": "2020-10-11T07:27:42.054352Z"
        },
        "id": "ysalKI8Hx4k9"
      },
      "source": [
        "np.fix(c)"
      ],
      "execution_count": null,
      "outputs": []
    },
    {
      "cell_type": "markdown",
      "metadata": {
        "id": "-RWVR4_Px4k9"
      },
      "source": [
        "## Агрегирующие функции.\n",
        "Можно совместно обрабатывать все элементы массивов, а не каждый по отдельности. Такие функции называются агрегирующими."
      ]
    },
    {
      "cell_type": "code",
      "metadata": {
        "ExecuteTime": {
          "end_time": "2020-10-11T07:27:42.157358Z",
          "start_time": "2020-10-11T07:27:42.152358Z"
        },
        "id": "g_WRzsLxx4k9"
      },
      "source": [
        "a = np.array([[1, 2, 3], [4, 5, 6]]) # создадим массив\n",
        "a"
      ],
      "execution_count": null,
      "outputs": []
    },
    {
      "cell_type": "code",
      "metadata": {
        "ExecuteTime": {
          "end_time": "2020-10-11T07:27:42.209361Z",
          "start_time": "2020-10-11T07:27:42.205361Z"
        },
        "id": "i1xMplKkx4k9"
      },
      "source": [
        "np.sum(a) # суммирование всех элементов массива между собой"
      ],
      "execution_count": null,
      "outputs": []
    },
    {
      "cell_type": "markdown",
      "metadata": {
        "id": "KW3_zEEwx4k9"
      },
      "source": [
        "или"
      ]
    },
    {
      "cell_type": "code",
      "metadata": {
        "ExecuteTime": {
          "end_time": "2020-10-11T07:27:42.305367Z",
          "start_time": "2020-10-11T07:27:42.301367Z"
        },
        "id": "LJVJ1-k7x4k9"
      },
      "source": [
        "a.sum() # другой способ вызова той же функции суммирования"
      ],
      "execution_count": null,
      "outputs": []
    },
    {
      "cell_type": "code",
      "metadata": {
        "ExecuteTime": {
          "end_time": "2020-10-11T07:27:42.356370Z",
          "start_time": "2020-10-11T07:27:42.352369Z"
        },
        "id": "qzggbxImx4k-"
      },
      "source": [
        "a.min() # минимальный элемент массива"
      ],
      "execution_count": null,
      "outputs": []
    },
    {
      "cell_type": "code",
      "metadata": {
        "ExecuteTime": {
          "end_time": "2020-10-11T07:27:42.409373Z",
          "start_time": "2020-10-11T07:27:42.405372Z"
        },
        "id": "7G1_idHtx4k-"
      },
      "source": [
        "a.max() # максимальный элемент массива"
      ],
      "execution_count": null,
      "outputs": []
    },
    {
      "cell_type": "markdown",
      "metadata": {
        "id": "I6ZWH6CTx4k-"
      },
      "source": [
        "По умолчанию, эти операции применяются к массиву, как если бы он был списком чисел, независимо от его формы. Однако, указав параметр `axis`, можно применить операцию для указанной оси (размерности) массива. Оси нумеруются начиная с 0 (первая ось имеет номер ноль)."
      ]
    },
    {
      "cell_type": "code",
      "metadata": {
        "ExecuteTime": {
          "end_time": "2020-10-11T07:27:42.506378Z",
          "start_time": "2020-10-11T07:27:42.502378Z"
        },
        "id": "9dkpTP17x4k-"
      },
      "source": [
        "a.min(axis=1) # минимум по строкам для каждого столбца"
      ],
      "execution_count": null,
      "outputs": []
    },
    {
      "cell_type": "code",
      "metadata": {
        "ExecuteTime": {
          "end_time": "2020-10-11T07:27:42.558381Z",
          "start_time": "2020-10-11T07:27:42.554381Z"
        },
        "id": "lAZwSbXvx4k-"
      },
      "source": [
        "a.min(axis=0) # минимум по столбцам для каждой строки"
      ],
      "execution_count": null,
      "outputs": []
    },
    {
      "cell_type": "markdown",
      "metadata": {
        "id": "QVRRrIbHx4k_"
      },
      "source": [
        "Вообще, указание осей (особенно в случае тензоров - многомерных массивов) очень важно для таких функций. Мы будем часто пользоваться этим, когда будем изучать нейронные сети."
      ]
    },
    {
      "cell_type": "markdown",
      "metadata": {
        "id": "ygNqJsx9x4k_"
      },
      "source": [
        "## Индексы, срезы, итерации\n",
        "\n",
        "До сих пор мы обрабатывали все элементы массива, которые в нем есть. Но часто нужно работать только с некоторыми из них. Для этого надо узнать эти элементы. Например, хотим узнать какой в матрице первый элемент. Для этого нужно обратиться к этому элементу по его индексу (номеру).\n",
        "В Python индексы начинаются с нуля, т.е. первый элемент имеет индекс 0.\n",
        "\n",
        "Обращение к элементам, или как говорят *индексация*, массива выполняется с помощью квадратных скобок [] внутри которых мы указываем __срез__ тех индексов элементов, к которым хотим обратиться. Вспомним что такое __срез__ из уроков по основам Python. Это последовательность целых чисел, которую можно задать, например, использую оператор __начало:конец:шаг__\n"
      ]
    },
    {
      "cell_type": "code",
      "metadata": {
        "ExecuteTime": {
          "end_time": "2020-10-11T07:27:42.700389Z",
          "start_time": "2020-10-11T07:27:42.696389Z"
        },
        "id": "OfSq8lqtx4k_"
      },
      "source": [
        "a = np.arange(10) ** 3 # создадим массив. Какая у него форма?\n",
        "a"
      ],
      "execution_count": null,
      "outputs": []
    },
    {
      "cell_type": "code",
      "metadata": {
        "ExecuteTime": {
          "end_time": "2020-10-11T07:27:42.752392Z",
          "start_time": "2020-10-11T07:27:42.748392Z"
        },
        "id": "JBL6_jxCx4k_"
      },
      "source": [
        "a[4] # Посмотрим на первый элемент этого массива, помним что первый элемент имеет индекс 0."
      ],
      "execution_count": null,
      "outputs": []
    },
    {
      "cell_type": "code",
      "source": [],
      "metadata": {
        "id": "sdNb4n8dSEVd"
      },
      "execution_count": null,
      "outputs": []
    },
    {
      "cell_type": "code",
      "metadata": {
        "ExecuteTime": {
          "end_time": "2020-10-11T07:27:42.803395Z",
          "start_time": "2020-10-11T07:27:42.799395Z"
        },
        "id": "c9H0m1u2x4lA"
      },
      "source": [
        "a[3:5] # Посмотрим сразу на четвертый и пятый элементы. Помним что в срезах конец не входит в диапазон, поэтому шестой элемент мы не получим"
      ],
      "execution_count": null,
      "outputs": []
    },
    {
      "cell_type": "code",
      "source": [
        "a[[3,4]]"
      ],
      "metadata": {
        "id": "eCiErIQrAD4D"
      },
      "execution_count": null,
      "outputs": []
    },
    {
      "cell_type": "code",
      "source": [
        "a[[3,3]]"
      ],
      "metadata": {
        "id": "gj7xrwQlSMkD"
      },
      "execution_count": null,
      "outputs": []
    },
    {
      "cell_type": "markdown",
      "metadata": {
        "id": "yMptqVWix4lA"
      },
      "source": [
        "изменим четвертый и пятый элементы. Вообще, при изменении формы объектов слева и справа от знака присвоения = должны быть одинаковые. Но для скаляра это исключение."
      ]
    },
    {
      "cell_type": "code",
      "metadata": {
        "ExecuteTime": {
          "end_time": "2020-10-11T07:27:42.899401Z",
          "start_time": "2020-10-11T07:27:42.895400Z"
        },
        "id": "pv40XK_3x4lA"
      },
      "source": [
        "a[3:5] = 2 # изменяем\n",
        "a"
      ],
      "execution_count": null,
      "outputs": []
    },
    {
      "cell_type": "markdown",
      "metadata": {
        "id": "ldyGJEkox4lA"
      },
      "source": [
        "А если вот так сделать, что получится?"
      ]
    },
    {
      "cell_type": "code",
      "source": [
        "a[0.5]"
      ],
      "metadata": {
        "id": "tLeIHNyYAv1p"
      },
      "execution_count": null,
      "outputs": []
    },
    {
      "cell_type": "code",
      "metadata": {
        "ExecuteTime": {
          "end_time": "2020-10-11T07:27:42.994406Z",
          "start_time": "2020-10-11T07:27:42.990406Z"
        },
        "id": "wfaSP4lzx4lA"
      },
      "source": [
        "a[::-1] # Что здесь происходит?"
      ],
      "execution_count": null,
      "outputs": []
    },
    {
      "cell_type": "code",
      "source": [
        "a"
      ],
      "metadata": {
        "id": "u1IkGlLkTXgh"
      },
      "execution_count": null,
      "outputs": []
    },
    {
      "cell_type": "code",
      "source": [
        "a[-1]"
      ],
      "metadata": {
        "id": "jUjuxtcPXgr7"
      },
      "execution_count": null,
      "outputs": []
    },
    {
      "cell_type": "markdown",
      "metadata": {
        "id": "A5JqBaM3x4lB"
      },
      "source": [
        "Вспомнив,  как создаются срезы, понимаем, что здесь __начало, конец__ опущены, а значит будут использованы значения по умолчанию, а __шаг = -1__. В результате получили массив, в котором элементы переставлены в обратном порядке."
      ]
    },
    {
      "cell_type": "markdown",
      "metadata": {
        "id": "qzhjQbFMx4lB"
      },
      "source": [
        "У *многомерных* массивов на каждую ось приходится один индекс. Индексы передаются в виде последовательности чисел, разделенных запятыми (кортежами):"
      ]
    },
    {
      "cell_type": "code",
      "metadata": {
        "ExecuteTime": {
          "end_time": "2020-10-11T07:27:43.146415Z",
          "start_time": "2020-10-11T07:27:43.141415Z"
        },
        "id": "wGjK4BH8x4lC"
      },
      "source": [
        "b = np.array([[ 0,  1,  2,  3],\n",
        "...           [10, 11, 12, 13],\n",
        "...           [20, 21, 22, 23],\n",
        "...           [30, 31, 32, 33],\n",
        "...           [40, 41, 42, 43]]) # создадим двумерный массив\n",
        "b"
      ],
      "execution_count": null,
      "outputs": []
    },
    {
      "cell_type": "code",
      "metadata": {
        "ExecuteTime": {
          "end_time": "2020-10-11T07:27:43.205418Z",
          "start_time": "2020-10-11T07:27:43.202418Z"
        },
        "id": "W-EKr6xRx4lC"
      },
      "source": [
        "b[2,3] # обратимся к элементу на третьей строке в четвертом столбце\n"
      ],
      "execution_count": null,
      "outputs": []
    },
    {
      "cell_type": "code",
      "source": [
        "b[[2,3],3]"
      ],
      "metadata": {
        "id": "PVt1dahOSbZF"
      },
      "execution_count": null,
      "outputs": []
    },
    {
      "cell_type": "markdown",
      "metadata": {
        "id": "lJ0XvGztx4lC"
      },
      "source": [
        "тоже самое можно получить и так:"
      ]
    },
    {
      "cell_type": "code",
      "metadata": {
        "ExecuteTime": {
          "end_time": "2020-10-11T07:27:43.309424Z",
          "start_time": "2020-10-11T07:27:43.305424Z"
        },
        "id": "jsmAKBs_x4lC"
      },
      "source": [
        "b[(2,3)]"
      ],
      "execution_count": null,
      "outputs": []
    },
    {
      "cell_type": "markdown",
      "metadata": {
        "id": "yN_Cr6mTx4lC"
      },
      "source": [
        "или даже так"
      ]
    },
    {
      "cell_type": "code",
      "source": [
        "b[2]"
      ],
      "metadata": {
        "id": "WM5jH0nLg9WH"
      },
      "execution_count": null,
      "outputs": []
    },
    {
      "cell_type": "code",
      "metadata": {
        "ExecuteTime": {
          "end_time": "2020-10-11T07:27:43.413430Z",
          "start_time": "2020-10-11T07:27:43.410430Z"
        },
        "id": "b_YLI-ILx4lC"
      },
      "source": [
        "b[2][3]"
      ],
      "execution_count": null,
      "outputs": []
    },
    {
      "cell_type": "markdown",
      "metadata": {
        "id": "DZGT_cYIx4lD"
      },
      "source": [
        "Но не следует путать"
      ]
    },
    {
      "cell_type": "code",
      "metadata": {
        "ExecuteTime": {
          "end_time": "2020-10-11T07:27:43.517436Z",
          "start_time": "2020-10-11T07:27:43.514436Z"
        },
        "id": "rPXDbL7wx4lD"
      },
      "source": [
        "b[:,2] # это третий столбец целиком (все строки)"
      ],
      "execution_count": null,
      "outputs": []
    },
    {
      "cell_type": "code",
      "source": [
        "b[:]"
      ],
      "metadata": {
        "id": "UX9G4micHb7F"
      },
      "execution_count": null,
      "outputs": []
    },
    {
      "cell_type": "markdown",
      "metadata": {
        "id": "yR91w6Dix4lD"
      },
      "source": [
        "и"
      ]
    },
    {
      "cell_type": "code",
      "metadata": {
        "ExecuteTime": {
          "end_time": "2020-10-11T07:27:43.627442Z",
          "start_time": "2020-10-11T07:27:43.623442Z"
        },
        "id": "Da5z8FGBx4lE"
      },
      "source": [
        "b[: 2] # это первая и вторая строки массива"
      ],
      "execution_count": null,
      "outputs": []
    },
    {
      "cell_type": "code",
      "source": [],
      "metadata": {
        "id": "28moJfOPH4wm"
      },
      "execution_count": null,
      "outputs": []
    },
    {
      "cell_type": "markdown",
      "metadata": {
        "id": "fDTwmZ2rx4lE"
      },
      "source": [
        "Тут мы запятую не поставили, и NumPy считает, что мы указываем только один индекс, самый первый - индекс строк. А для столбцов индекс (по умолчанию) - все.\n",
        "\n",
        "Теперь разгадайте вот такую индексацию:"
      ]
    },
    {
      "cell_type": "code",
      "metadata": {
        "ExecuteTime": {
          "end_time": "2020-10-11T07:27:43.727448Z",
          "start_time": "2020-10-11T07:27:43.723448Z"
        },
        "id": "8TdDpu1Cx4lF"
      },
      "source": [
        "b[1:3, : : ] # что это за смайлик?"
      ],
      "execution_count": null,
      "outputs": []
    },
    {
      "cell_type": "markdown",
      "metadata": {
        "id": "qWG43FGWx4lF"
      },
      "source": [
        "Мы указали *два* индекса, один для строк: `1:3`, т.е. вторая и третья строки,\n",
        "\n",
        "другой для столбцов: ` : : ` здесь __начало, конец, шаг__ опущены и использованы значения по умолчанию. __начало = 0 , конец = \"длина объекта\" = 4 , шаг = 1__ т.е. первый, второй, третий и четвертый столбцы.\n",
        "\n",
        "А что будет, если обратиться к элементу номер 100? Проверьте."
      ]
    },
    {
      "cell_type": "code",
      "source": [
        "b"
      ],
      "metadata": {
        "id": "525QA1tcV-84"
      },
      "execution_count": null,
      "outputs": []
    },
    {
      "cell_type": "code",
      "source": [
        "b[2:3][0] #????"
      ],
      "metadata": {
        "id": "ozJ9PVWwWBY_"
      },
      "execution_count": null,
      "outputs": []
    },
    {
      "cell_type": "code",
      "source": [
        "e=np.ones((2,3,4,2,3,4))"
      ],
      "metadata": {
        "id": "jC2olia2X0Ft"
      },
      "execution_count": null,
      "outputs": []
    },
    {
      "cell_type": "code",
      "source": [
        "e[...,2] # даже такое работает, опустили все предыдущие индексы"
      ],
      "metadata": {
        "id": "IkRavghyX9st"
      },
      "execution_count": null,
      "outputs": []
    },
    {
      "cell_type": "markdown",
      "source": [
        "Еще больше информации и примеров по индексации можно найти в [документации](https://numpy.org/devdocs/user/basics.indexing.html)."
      ],
      "metadata": {
        "id": "E6Os6kNWY8zG"
      }
    },
    {
      "cell_type": "markdown",
      "metadata": {
        "id": "jOuRVpK-x4lF"
      },
      "source": [
        "### Итерирование массивов\n",
        "Зададим массив посложней. Узнаем его форму используя атрибут `shape`. Это трехмерный массив, 2 строки, 2 столбца, 3 третьих измерения (им не придумали названия)."
      ]
    },
    {
      "cell_type": "code",
      "source": [
        "import numpy as np"
      ],
      "metadata": {
        "id": "WZ988ampZZhe"
      },
      "execution_count": null,
      "outputs": []
    },
    {
      "cell_type": "code",
      "metadata": {
        "ExecuteTime": {
          "end_time": "2020-10-11T07:27:43.867456Z",
          "start_time": "2020-10-11T07:27:43.864456Z"
        },
        "id": "02aLs6X-x4lF"
      },
      "source": [
        "a = np.array(([[0, 1, 2], [10, 12, 13]], [[100, 101, 102], [110, 112, 113]]))"
      ],
      "execution_count": null,
      "outputs": []
    },
    {
      "cell_type": "code",
      "metadata": {
        "ExecuteTime": {
          "end_time": "2020-10-11T07:27:43.917459Z",
          "start_time": "2020-10-11T07:27:43.913459Z"
        },
        "id": "fKU6QxArx4lF"
      },
      "source": [
        "a"
      ],
      "execution_count": null,
      "outputs": []
    },
    {
      "cell_type": "code",
      "metadata": {
        "ExecuteTime": {
          "end_time": "2020-10-11T07:27:43.965462Z",
          "start_time": "2020-10-11T07:27:43.961461Z"
        },
        "id": "ARNcedNGx4lG"
      },
      "source": [
        "a.shape"
      ],
      "execution_count": null,
      "outputs": []
    },
    {
      "cell_type": "markdown",
      "metadata": {
        "id": "LDbXPrXEx4lG"
      },
      "source": [
        "Итерирование многомерных массивов ведется по первой оси (т.е. строкам).\n",
        "\n",
        "Изменяется номер строки, а все остальные индексы берутся \"все\".\n",
        "\n",
        "В результате выполнится __две__ итерации (число строк равно двум).\n",
        "\n",
        "Объект `row` будет массивом, который содержит:\n",
        "* на первой итерации элементы из первой строки, всех столбцов и всех третьих измерений массива __a__.\n",
        "* на второй итерации элементы из второй строки, всех столбцов и всех третьих измерений массива __a__."
      ]
    },
    {
      "cell_type": "code",
      "metadata": {
        "ExecuteTime": {
          "end_time": "2020-10-11T07:27:44.060467Z",
          "start_time": "2020-10-11T07:27:44.057467Z"
        },
        "id": "Xb_p8R19x4lG"
      },
      "source": [
        "for row in a:\n",
        "   print(row)\n",
        "   print(' ')\n"
      ],
      "execution_count": null,
      "outputs": []
    },
    {
      "cell_type": "markdown",
      "metadata": {
        "id": "rbaubSXzx4lG"
      },
      "source": [
        "Если нужно перебрать поэлементно весь массив, как если бы он был одномерным, для этого можно использовать `flat`. При этом наиболее быстро изменяется последний индекс, в нашем случае третий, потом второй (столбцы) и только в конце первый (строки).\n",
        "\n",
        "Значит первая половина результата - это элементы с первой строки. Вторая половина - элементы со второй строки.\n",
        "\n",
        "`flat` это итератор, он привязан к самому массиву, если изменим массив, то и его итератор поменяется, он _не_ делает копию массива. Если нужна копия объекта используйте `flatten` ."
      ]
    },
    {
      "cell_type": "code",
      "source": [
        "a.flat"
      ],
      "metadata": {
        "id": "o4jztvpLD7l9"
      },
      "execution_count": null,
      "outputs": []
    },
    {
      "cell_type": "code",
      "metadata": {
        "ExecuteTime": {
          "end_time": "2020-10-11T07:27:44.160473Z",
          "start_time": "2020-10-11T07:27:44.156473Z"
        },
        "id": "EhYKKl8ux4lG"
      },
      "source": [
        "for el in a.flat:\n",
        "    print(el)\n"
      ],
      "execution_count": null,
      "outputs": []
    },
    {
      "cell_type": "code",
      "source": [
        "a\n"
      ],
      "metadata": {
        "id": "LESEc6mJJV3v"
      },
      "execution_count": null,
      "outputs": []
    },
    {
      "cell_type": "markdown",
      "metadata": {
        "id": "5qcRo2PDx4lG"
      },
      "source": [
        "\n",
        "Форма массива может быть изменена с помощью различных команд, результаты некоторых привязаны к самому массиву, изменив его изменится и результат, копии массива не создаются."
      ]
    },
    {
      "cell_type": "code",
      "metadata": {
        "ExecuteTime": {
          "end_time": "2020-10-11T07:27:44.258478Z",
          "start_time": "2020-10-11T07:27:44.255478Z"
        },
        "id": "wDBGhFsex4lG"
      },
      "source": [
        "a.ravel()  # Делает массив плоским, но сам массив не изменяется\n"
      ],
      "execution_count": null,
      "outputs": []
    },
    {
      "cell_type": "code",
      "metadata": {
        "ExecuteTime": {
          "end_time": "2020-10-11T07:27:44.310481Z",
          "start_time": "2020-10-11T07:27:44.306481Z"
        },
        "id": "K4esrvivx4lG"
      },
      "source": [
        "a"
      ],
      "execution_count": null,
      "outputs": []
    },
    {
      "cell_type": "code",
      "metadata": {
        "ExecuteTime": {
          "end_time": "2020-10-11T07:27:44.363484Z",
          "start_time": "2020-10-11T07:27:44.359484Z"
        },
        "id": "kbLyReHHx4lH"
      },
      "source": [
        "a.shape = (6, 2)  # Изменение формы, сам массив изменяется\n",
        "a\n"
      ],
      "execution_count": null,
      "outputs": []
    },
    {
      "cell_type": "code",
      "metadata": {
        "ExecuteTime": {
          "end_time": "2020-10-11T07:27:44.415487Z",
          "start_time": "2020-10-11T07:27:44.411487Z"
        },
        "id": "MOJR2rr8x4lH"
      },
      "source": [
        "a.transpose()  # Транспонирование, сам массив не изменяется"
      ],
      "execution_count": null,
      "outputs": []
    },
    {
      "cell_type": "code",
      "metadata": {
        "ExecuteTime": {
          "end_time": "2020-10-11T07:27:44.467490Z",
          "start_time": "2020-10-11T07:27:44.463490Z"
        },
        "id": "XlO-Bn2Hx4lI"
      },
      "source": [
        "a"
      ],
      "execution_count": null,
      "outputs": []
    },
    {
      "cell_type": "code",
      "metadata": {
        "ExecuteTime": {
          "end_time": "2020-10-11T07:27:44.518493Z",
          "start_time": "2020-10-11T07:27:44.514493Z"
        },
        "id": "nrHfG5Uhx4lI"
      },
      "source": [
        "a.reshape((3, 4))  # Изменение формы, но сам массив не изменяется"
      ],
      "execution_count": null,
      "outputs": []
    },
    {
      "cell_type": "code",
      "metadata": {
        "ExecuteTime": {
          "end_time": "2020-10-11T07:27:44.569496Z",
          "start_time": "2020-10-11T07:27:44.565496Z"
        },
        "id": "8W956boxx4lI"
      },
      "source": [
        "a"
      ],
      "execution_count": null,
      "outputs": []
    },
    {
      "cell_type": "markdown",
      "metadata": {
        "id": "SF68Sk9hx4lI"
      },
      "source": [
        "### Объединение и разбиение массивов\n",
        "Несколько массивов могут быть объединены вместе вдоль разных осей с помощью функций `hstack` и `vstack`.\n",
        "\n",
        "`hstack()` — объединяет массивы по вторым осям (горизонтально),\n",
        "\n",
        "`vstack()` — по первым (вертикально).\n",
        "\n",
        "Есть функция `stack()` для объединения по любой оси и другие функции."
      ]
    },
    {
      "cell_type": "code",
      "metadata": {
        "ExecuteTime": {
          "end_time": "2020-10-11T07:27:44.668502Z",
          "start_time": "2020-10-11T07:27:44.664502Z"
        },
        "id": "tDPfGMkvx4lI"
      },
      "source": [
        "a = np.array([[1, 2], [3, 4]])\n",
        "a"
      ],
      "execution_count": null,
      "outputs": []
    },
    {
      "cell_type": "code",
      "metadata": {
        "ExecuteTime": {
          "end_time": "2020-10-11T07:27:44.721505Z",
          "start_time": "2020-10-11T07:27:44.716505Z"
        },
        "id": "oOnMaXYTx4lI"
      },
      "source": [
        "b = np.array([[5, 6], [7, 8]])\n",
        "b"
      ],
      "execution_count": null,
      "outputs": []
    },
    {
      "cell_type": "code",
      "metadata": {
        "ExecuteTime": {
          "end_time": "2020-10-11T07:27:44.772508Z",
          "start_time": "2020-10-11T07:27:44.768508Z"
        },
        "id": "B00Opa7Vx4lJ"
      },
      "source": [
        "np.vstack((a, b))"
      ],
      "execution_count": null,
      "outputs": []
    },
    {
      "cell_type": "code",
      "metadata": {
        "ExecuteTime": {
          "end_time": "2020-10-11T07:27:44.823511Z",
          "start_time": "2020-10-11T07:27:44.819511Z"
        },
        "id": "j9hMnnw1x4lJ"
      },
      "source": [
        "np.hstack((a, b))\n"
      ],
      "execution_count": null,
      "outputs": []
    },
    {
      "cell_type": "code",
      "metadata": {
        "ExecuteTime": {
          "end_time": "2020-10-11T07:27:44.874514Z",
          "start_time": "2020-10-11T07:27:44.870513Z"
        },
        "id": "THZqCPylx4lJ"
      },
      "source": [
        "np.column_stack((a, b))"
      ],
      "execution_count": null,
      "outputs": []
    },
    {
      "cell_type": "code",
      "metadata": {
        "ExecuteTime": {
          "end_time": "2020-10-11T07:27:44.927517Z",
          "start_time": "2020-10-11T07:27:44.923516Z"
        },
        "id": "Hmfbp2-Fx4lK"
      },
      "source": [
        "np.row_stack((a, b))"
      ],
      "execution_count": null,
      "outputs": []
    },
    {
      "cell_type": "markdown",
      "metadata": {
        "id": "GpL08udBx4lK"
      },
      "source": [
        "Используя `hsplit()` можно разбить массив по горизонтальной (второй, столбцы) оси, указав либо число возвращаемых массивов одинаковой формы, либо номера столбцов, после которых массив разрезается \"ножницами\".\n",
        "\n",
        "Аналогично `vsplit()` разрезает массивы по вертикальной (первой, строки) оси."
      ]
    },
    {
      "cell_type": "code",
      "metadata": {
        "ExecuteTime": {
          "end_time": "2020-10-11T07:27:45.038523Z",
          "start_time": "2020-10-11T07:27:45.035523Z"
        },
        "id": "--7APviUx4lK"
      },
      "source": [
        "a = np.arange(12).reshape((2, 6))"
      ],
      "execution_count": null,
      "outputs": []
    },
    {
      "cell_type": "code",
      "metadata": {
        "ExecuteTime": {
          "end_time": "2020-10-11T07:27:45.088526Z",
          "start_time": "2020-10-11T07:27:45.085526Z"
        },
        "id": "WgreWNBkx4lK"
      },
      "source": [
        "a"
      ],
      "execution_count": null,
      "outputs": []
    },
    {
      "cell_type": "code",
      "metadata": {
        "ExecuteTime": {
          "end_time": "2020-10-11T07:27:45.139529Z",
          "start_time": "2020-10-11T07:27:45.134529Z"
        },
        "id": "cTHdnO6fx4lK"
      },
      "source": [
        "z1,z2,z3=np.hsplit(a, 3)  # Разбить на 3 части по столбцам"
      ],
      "execution_count": null,
      "outputs": []
    },
    {
      "cell_type": "code",
      "source": [
        "z1"
      ],
      "metadata": {
        "id": "uEGib9HdLA-D"
      },
      "execution_count": null,
      "outputs": []
    },
    {
      "cell_type": "code",
      "metadata": {
        "ExecuteTime": {
          "end_time": "2020-10-11T07:27:45.190532Z",
          "start_time": "2020-10-11T07:27:45.186532Z"
        },
        "id": "9r5MTV_Gx4lL"
      },
      "source": [
        "np.hsplit(a, (3, 4))  # Разрезать a после третьего и четвёртого столбца"
      ],
      "execution_count": null,
      "outputs": []
    },
    {
      "cell_type": "code",
      "metadata": {
        "ExecuteTime": {
          "end_time": "2020-10-11T07:27:45.245535Z",
          "start_time": "2020-10-11T07:27:45.241535Z"
        },
        "id": "ir_Qyv4nx4lM"
      },
      "source": [
        "np.vsplit(a, 2)  # Разбить на 2 части по строкам"
      ],
      "execution_count": null,
      "outputs": []
    },
    {
      "cell_type": "markdown",
      "metadata": {
        "id": "BqyEQv9fx4lM"
      },
      "source": [
        "## Копии и представления"
      ]
    },
    {
      "cell_type": "markdown",
      "metadata": {
        "id": "SWt_JF96x4lM"
      },
      "source": [
        "Простое присваивание __не создает__ копии массива:"
      ]
    },
    {
      "cell_type": "code",
      "metadata": {
        "ExecuteTime": {
          "end_time": "2020-10-11T07:27:45.384543Z",
          "start_time": "2020-10-11T07:27:45.381543Z"
        },
        "id": "pGa9gTyPx4lM"
      },
      "source": [
        "a = np.arange(12)"
      ],
      "execution_count": null,
      "outputs": []
    },
    {
      "cell_type": "code",
      "metadata": {
        "ExecuteTime": {
          "end_time": "2020-10-11T07:27:45.436546Z",
          "start_time": "2020-10-11T07:27:45.432546Z"
        },
        "id": "X1oWQf60x4lM"
      },
      "source": [
        "a"
      ],
      "execution_count": null,
      "outputs": []
    },
    {
      "cell_type": "code",
      "metadata": {
        "ExecuteTime": {
          "end_time": "2020-10-11T07:27:45.486549Z",
          "start_time": "2020-10-11T07:27:45.483549Z"
        },
        "id": "v9hmgMsQx4lM"
      },
      "source": [
        "b = a"
      ],
      "execution_count": null,
      "outputs": []
    },
    {
      "cell_type": "code",
      "metadata": {
        "ExecuteTime": {
          "end_time": "2020-10-11T07:27:45.538552Z",
          "start_time": "2020-10-11T07:27:45.534551Z"
        },
        "id": "OhN0PfxSx4lM"
      },
      "source": [
        "b"
      ],
      "execution_count": null,
      "outputs": []
    },
    {
      "cell_type": "markdown",
      "metadata": {
        "id": "SoWYM6Clx4lM"
      },
      "source": [
        "__a__ и __b__ это два имени для одного и того же объекта ndarray, нового объекта не было создано.\n",
        "\n",
        "Поменяв __a__, поменяется и __b__.\n",
        "\n",
        "Чтобы проверить что это один и тот же объект можно использовать команду `is`\n",
        "\n",
        "Она вернет *истину* (True) или *ложь* (False)"
      ]
    },
    {
      "cell_type": "code",
      "metadata": {
        "ExecuteTime": {
          "end_time": "2020-10-11T07:27:45.635557Z",
          "start_time": "2020-10-11T07:27:45.631557Z"
        },
        "id": "3vFdj1tCx4lM"
      },
      "source": [
        "b is a # проверим что это один и тот же объект"
      ],
      "execution_count": null,
      "outputs": []
    },
    {
      "cell_type": "code",
      "metadata": {
        "ExecuteTime": {
          "end_time": "2020-10-11T07:27:45.687560Z",
          "start_time": "2020-10-11T07:27:45.683560Z"
        },
        "id": "Z-jcwTIrx4lN"
      },
      "source": [
        "b.shape"
      ],
      "execution_count": null,
      "outputs": []
    },
    {
      "cell_type": "code",
      "metadata": {
        "ExecuteTime": {
          "end_time": "2020-10-11T07:27:45.738563Z",
          "start_time": "2020-10-11T07:27:45.736563Z"
        },
        "id": "fRgRQMqkx4lN"
      },
      "source": [
        "b.shape = (3,4) # изменим массив b"
      ],
      "execution_count": null,
      "outputs": []
    },
    {
      "cell_type": "code",
      "metadata": {
        "ExecuteTime": {
          "end_time": "2020-10-11T07:27:45.791566Z",
          "start_time": "2020-10-11T07:27:45.787566Z"
        },
        "id": "nmjJ40fnx4lN"
      },
      "source": [
        "a.shape # при этом изменился и массив а"
      ],
      "execution_count": null,
      "outputs": []
    },
    {
      "cell_type": "markdown",
      "metadata": {
        "id": "LlhQ5Tidx4lN"
      },
      "source": [
        "`view()` создаст __представление__ массива __a__.\n",
        "\n",
        "Представление - это другой объект, он находится в другом месте памяти, но он связан с исходным массивом. Если поменяем массив __a__, то и его представление __c__ тоже поменяется.\n",
        "\n",
        "Себе вы можете представить это так, мы смотрим на стол одним глазом и другим. Глаза разные, находятся в разных местах, но если стол поменяется, то обоими глазами мы увидим эти изменения.\n",
        "\n"
      ]
    },
    {
      "cell_type": "code",
      "metadata": {
        "ExecuteTime": {
          "end_time": "2020-10-11T07:27:45.887572Z",
          "start_time": "2020-10-11T07:27:45.884571Z"
        },
        "id": "9fPw1L8ix4lN"
      },
      "source": [
        "c = a.view()"
      ],
      "execution_count": null,
      "outputs": []
    },
    {
      "cell_type": "code",
      "source": [
        "c"
      ],
      "metadata": {
        "id": "zOw52qqnMI04"
      },
      "execution_count": null,
      "outputs": []
    },
    {
      "cell_type": "code",
      "metadata": {
        "ExecuteTime": {
          "end_time": "2020-10-11T07:27:45.939575Z",
          "start_time": "2020-10-11T07:27:45.935574Z"
        },
        "id": "28DCmJqYx4lN"
      },
      "source": [
        "c is a"
      ],
      "execution_count": null,
      "outputs": []
    },
    {
      "cell_type": "code",
      "metadata": {
        "ExecuteTime": {
          "end_time": "2020-10-11T07:27:45.993578Z",
          "start_time": "2020-10-11T07:27:45.989577Z"
        },
        "id": "irx-10Czx4lO"
      },
      "source": [
        "a[0,0]=100500 # изменим массив a\n",
        "c # изменилось и его представление c"
      ],
      "execution_count": null,
      "outputs": []
    },
    {
      "cell_type": "code",
      "metadata": {
        "ExecuteTime": {
          "end_time": "2020-10-11T07:27:46.047581Z",
          "start_time": "2020-10-11T07:27:46.043581Z"
        },
        "id": "FQBga6yyx4lO"
      },
      "source": [
        "c[1,1]=-100500 # поменяем с\n",
        "c # оно конечно изменилось"
      ],
      "execution_count": null,
      "outputs": []
    },
    {
      "cell_type": "code",
      "metadata": {
        "ExecuteTime": {
          "end_time": "2020-10-11T07:27:46.100584Z",
          "start_time": "2020-10-11T07:27:46.096584Z"
        },
        "id": "Xl19kI9Fx4lO"
      },
      "source": [
        "a # и а тоже изменилось"
      ],
      "execution_count": null,
      "outputs": []
    },
    {
      "cell_type": "markdown",
      "metadata": {
        "id": "SnFM0QdNx4lP"
      },
      "source": [
        "Если нужно создать копию массива, которая будет независима от самого массива, но содержать те же данные, то используем `copy()`.\n"
      ]
    },
    {
      "cell_type": "code",
      "metadata": {
        "ExecuteTime": {
          "end_time": "2020-10-11T07:27:46.197589Z",
          "start_time": "2020-10-11T07:27:46.193589Z"
        },
        "id": "djmqALDax4lP"
      },
      "source": [
        "d = a.copy()  # создается новый объект массива\n",
        "d           # данные в нем такие же"
      ],
      "execution_count": null,
      "outputs": []
    },
    {
      "cell_type": "code",
      "metadata": {
        "ExecuteTime": {
          "end_time": "2020-10-11T07:27:46.249592Z",
          "start_time": "2020-10-11T07:27:46.246592Z"
        },
        "id": "gucb7lWrx4lP"
      },
      "source": [
        "d is a # Это тот же объект? Нет"
      ],
      "execution_count": null,
      "outputs": []
    },
    {
      "cell_type": "code",
      "metadata": {
        "ExecuteTime": {
          "end_time": "2020-10-11T07:27:46.304595Z",
          "start_time": "2020-10-11T07:27:46.300595Z"
        },
        "id": "ozht6qwqx4lP"
      },
      "source": [
        "a[0,0]=-1 # изменим массив a\n",
        "a"
      ],
      "execution_count": null,
      "outputs": []
    },
    {
      "cell_type": "code",
      "metadata": {
        "ExecuteTime": {
          "end_time": "2020-10-11T07:27:46.357599Z",
          "start_time": "2020-10-11T07:27:46.353598Z"
        },
        "id": "oloEwvKrx4lP"
      },
      "source": [
        "d        # изменился ли массив d? Нет."
      ],
      "execution_count": null,
      "outputs": []
    },
    {
      "cell_type": "markdown",
      "metadata": {
        "id": "vQ7m_63Jx4lQ"
      },
      "source": [
        "### Случайные числа в numpy\n",
        "\n",
        "Очень часто для работы нужны *случайные* числа. Это числа, которые каждый раз принимают разные значения. Сегодня одно, завтра другое. На случайности построено много алгоритмов, а иногда качество такой случайности очень сильно влияет на работу.\n",
        "\n",
        "В обычных компьютерах нет настоящих случайных чисел, это слишком дорого. Поэтому все пользуются __псевдослучайными__ числами, которые похожи на случайные, но на самом деле были один раз записаны и сохранены. В компьютерах есть большие таблицы псевдослучайных чисел, из которых они и выбираются (таблицы могут создаваться специальными алгоритмами-генераторами, см. например, [Вихрь Мерсена]( https://ru.wikipedia.org/wiki/Вихрь_Мерсенна) ).\n",
        "\n",
        "Случайные числа описываются *распределением*, функцией, которая примерно показывает сколько разных случайных чисел каждого значения используется.\n",
        "\n",
        "* Равномерное распределение (на отрезке [0 , 1]) означает что есть примерно одинаковое количество чисел каждого значения из этого отрезка. Например, 1000 штук со значением 0, 1005 штук со значением 0.1, 998 штук со значением 0.2 и т.д.\n",
        "\n",
        "* Нормальное распределение  - если нарисовать функцию такого распределения, то она похожа на колокольчик, который расположен в нуле (точная формула нам сейчас не интересна). Это значит, что есть очень много чисел близких к нулю, но есть мало больших чисел, и чем больше число, тем меньше таких чисел в распределении.\n",
        "\n",
        "Случайные числа из распределений выбираются наугад.\n",
        "\n",
        "Для работы со случайными числами нам потребуются модули [`random`](https://pythonworld.ru/moduli/modul-random.html) и [`numpy.random`](https://pythonworld.ru/numpy/3.html).\n"
      ]
    },
    {
      "cell_type": "code",
      "metadata": {
        "ExecuteTime": {
          "end_time": "2020-10-11T07:27:46.458604Z",
          "start_time": "2020-10-11T07:27:46.456604Z"
        },
        "id": "GkbEUhzPx4lQ"
      },
      "source": [
        "import random"
      ],
      "execution_count": null,
      "outputs": []
    },
    {
      "cell_type": "code",
      "metadata": {
        "ExecuteTime": {
          "end_time": "2020-10-11T07:27:46.511607Z",
          "start_time": "2020-10-11T07:27:46.508607Z"
        },
        "id": "SN0fx5t3x4lQ"
      },
      "source": [
        "import numpy.random as rand"
      ],
      "execution_count": null,
      "outputs": []
    },
    {
      "cell_type": "markdown",
      "metadata": {
        "id": "yY_YWvA-x4lQ"
      },
      "source": [
        "Самый простой способ задать массив со случайными элементами - использовать функцию `sample()` (или `random()`, или `random_sample()`, или `ranf()` - это всё одна и та же функция). Ей мы сообщаем размеры массива, который хотим создать. Эта функция берет случайные числа из равномерного распределения на интервале [0, 1) (это значит, что ноль может выпасть, а единичка нет)\n",
        "\n",
        "Позапускайте код ниже несколько раз, каждый раз будут другие числа возвращаться.\n",
        "\n",
        "Если нужны случайные числа из другого диапазона, то их нужно сделать из этих. Сместить, растянуть диапазон."
      ]
    },
    {
      "cell_type": "code",
      "metadata": {
        "ExecuteTime": {
          "end_time": "2020-10-11T07:27:46.611613Z",
          "start_time": "2020-10-11T07:27:46.606613Z"
        },
        "id": "1jN-g9Oex4lQ"
      },
      "source": [
        "np.random.sample() # одно случайное число"
      ],
      "execution_count": null,
      "outputs": []
    },
    {
      "cell_type": "code",
      "metadata": {
        "ExecuteTime": {
          "end_time": "2020-10-11T07:27:46.664616Z",
          "start_time": "2020-10-11T07:27:46.660616Z"
        },
        "id": "x14CMhFHx4lR"
      },
      "source": [
        "a=-3\n",
        "b=5\n",
        "a+(b-a)*np.random.sample() # одно случайное число из диапазона [a,b)"
      ],
      "execution_count": null,
      "outputs": []
    },
    {
      "cell_type": "code",
      "metadata": {
        "ExecuteTime": {
          "end_time": "2020-10-11T07:27:46.718619Z",
          "start_time": "2020-10-11T07:27:46.714619Z"
        },
        "id": "maoPkimvx4lR"
      },
      "source": [
        "np.random.sample(5) # Массив из 5 случайных чисел"
      ],
      "execution_count": null,
      "outputs": []
    },
    {
      "cell_type": "code",
      "metadata": {
        "ExecuteTime": {
          "end_time": "2020-10-11T07:27:46.771622Z",
          "start_time": "2020-10-11T07:27:46.766622Z"
        },
        "id": "11TB-CTSx4lR"
      },
      "source": [
        "np.random.sample((1, 1, 4)) # 4 случайных числа в трехмерном массиве"
      ],
      "execution_count": null,
      "outputs": []
    },
    {
      "cell_type": "markdown",
      "metadata": {
        "id": "jPuk1iWQx4lR"
      },
      "source": [
        "С помощью функции `randint()` или `random_integers()` можно создать массив из __целых__ случайных чисел.\n",
        "Указываем аргументы: `low`, `high`, `size`: от какого `low`, до какого `high` числа (`randint` не включает в себя это число, а `random_integers` включает), и `size` - размеры массива."
      ]
    },
    {
      "cell_type": "code",
      "metadata": {
        "ExecuteTime": {
          "end_time": "2020-10-11T07:27:46.866628Z",
          "start_time": "2020-10-11T07:27:46.861627Z"
        },
        "id": "ojdbGpVEx4lS"
      },
      "source": [
        "np.random.randint(0, 3, 10)# массив из 10 случайных целых чисел от 0 до 2 (3 не включается)"
      ],
      "execution_count": null,
      "outputs": []
    },
    {
      "cell_type": "code",
      "metadata": {
        "ExecuteTime": {
          "end_time": "2020-10-11T07:27:46.919631Z",
          "start_time": "2020-10-11T07:27:46.912630Z"
        },
        "id": "Puhqw8tWx4lS"
      },
      "source": [
        "np.random.random_integers(0, 3, 10)# массив из 10 случайных целых чисел от 0 до 3 (3 включается)"
      ],
      "execution_count": null,
      "outputs": []
    },
    {
      "cell_type": "code",
      "metadata": {
        "ExecuteTime": {
          "end_time": "2020-10-11T07:27:46.968633Z",
          "start_time": "2020-10-11T07:27:46.964633Z"
        },
        "id": "9FpdTLM8x4lS"
      },
      "source": [
        "np.random.randint(0, 3, (2, 10))# двумерный массив случайных чисел от 0 до 2."
      ],
      "execution_count": null,
      "outputs": []
    },
    {
      "cell_type": "markdown",
      "metadata": {
        "id": "06g8Urtlx4lT"
      },
      "source": [
        "Можно генерировать числа согласно различным распределениям (Гаусса, Парето и другие). Если понадобятся - см. документацию.\n",
        "\n",
        "Чаще всего нужно равномерное распределение, которое можно получить с помощь функции `uniform()` , смысл аргументов такой же как у `random_integers`, начало и конец могут быть дробными."
      ]
    },
    {
      "cell_type": "code",
      "metadata": {
        "ExecuteTime": {
          "end_time": "2020-10-11T07:27:47.066639Z",
          "start_time": "2020-10-11T07:27:47.061639Z"
        },
        "id": "W2B_r5o4x4lT"
      },
      "source": [
        "np.random.uniform(2, 8, (2, 10)) # двумерный массив со случайными числами от 2 до 8"
      ],
      "execution_count": null,
      "outputs": []
    },
    {
      "cell_type": "markdown",
      "metadata": {
        "id": "MjzF7Wdjx4lT"
      },
      "source": [
        "Случайно перемешать массив можно с помощью функции `shuffle()`. Изменится сам массив."
      ]
    },
    {
      "cell_type": "code",
      "metadata": {
        "ExecuteTime": {
          "end_time": "2020-10-11T07:27:47.158644Z",
          "start_time": "2020-10-11T07:27:47.155644Z"
        },
        "id": "5_lcaYDFx4lT"
      },
      "source": [
        "a = np.arange(10)"
      ],
      "execution_count": null,
      "outputs": []
    },
    {
      "cell_type": "code",
      "metadata": {
        "ExecuteTime": {
          "end_time": "2020-10-11T07:27:47.208647Z",
          "start_time": "2020-10-11T07:27:47.204647Z"
        },
        "id": "A8F05-W1x4lT"
      },
      "source": [
        "a"
      ],
      "execution_count": null,
      "outputs": []
    },
    {
      "cell_type": "code",
      "metadata": {
        "ExecuteTime": {
          "end_time": "2020-10-11T07:27:47.258650Z",
          "start_time": "2020-10-11T07:27:47.255650Z"
        },
        "id": "U5Xh_rd5x4lU"
      },
      "source": [
        "np.random.shuffle(a)"
      ],
      "execution_count": null,
      "outputs": []
    },
    {
      "cell_type": "code",
      "metadata": {
        "ExecuteTime": {
          "end_time": "2020-10-11T07:27:47.309653Z",
          "start_time": "2020-10-11T07:27:47.305653Z"
        },
        "id": "zBzWCVIDx4lV"
      },
      "source": [
        "a"
      ],
      "execution_count": null,
      "outputs": []
    },
    {
      "cell_type": "markdown",
      "metadata": {
        "id": "X933AJoax4lV"
      },
      "source": [
        "#### Инициализация генератора случайных чисел\n",
        "\n",
        "Случайные числа берутся из таблицы случайных чисел, можно принудительно заставить компьютер брать случайные числа из одной и той же части таблицы, или из разных.\n",
        "\n",
        "Первое может понадобиться, когда хотим, чтобы вычисления были одинаковыми.\n",
        "\n",
        "Установить, с какого места таблицы начинать брать случайные числа можно с помощью `random.seed()`\n",
        "\n",
        "Попробуйте сделать одинаковые и разные места и сравните результаты.\n",
        "\n",
        "Увеличивайте число `seed` в 100 раз, пока не возникнет ошибка, так примерно узнаете какой размер таблицы."
      ]
    },
    {
      "cell_type": "code",
      "metadata": {
        "ExecuteTime": {
          "end_time": "2020-10-11T07:27:47.408659Z",
          "start_time": "2020-10-11T07:27:47.404658Z"
        },
        "id": "d93oxv4zx4lV"
      },
      "source": [
        "np.random.seed(1000) # начинаем с места №1000\n",
        "\n",
        "np.random.random(10) # берем 10 случайных чисел"
      ],
      "execution_count": null,
      "outputs": []
    },
    {
      "cell_type": "code",
      "metadata": {
        "ExecuteTime": {
          "end_time": "2020-10-11T07:27:47.461662Z",
          "start_time": "2020-10-11T07:27:47.457661Z"
        },
        "id": "uLPoX9rpx4lV"
      },
      "source": [
        "np.random.seed(100) # Начинаем с другого места №100\n",
        "\n",
        "np.random.random(10) # Берем 10 случайных чисел, они другие"
      ],
      "execution_count": null,
      "outputs": []
    },
    {
      "cell_type": "code",
      "metadata": {
        "ExecuteTime": {
          "end_time": "2020-10-11T07:27:47.517665Z",
          "start_time": "2020-10-11T07:27:47.513665Z"
        },
        "id": "mM7cGUyXx4lV"
      },
      "source": [
        "np.random.seed(1000) # Начинаем с того же места №1000\n",
        "\n",
        "np.random.random(10) # Берем 10 случайных чисел, они такие же как в первом варианте"
      ],
      "execution_count": null,
      "outputs": []
    },
    {
      "cell_type": "markdown",
      "metadata": {
        "id": "h9qFV6mNx4lV"
      },
      "source": [
        "## Пример из будущих уроков\n",
        "Мы будем часто выполнять операции с массивами, чтобы подготовить данные для наших расчетов.\n",
        "Ниже кусок кода, который нам еще не раз встретится, который показывает как правильно формировать данные для расчетов.\n",
        "\n",
        "Попробуйте по шагам объяснить, что тут происходит.\n",
        "\n",
        "Не получится - не беда, узнаем позже."
      ]
    },
    {
      "cell_type": "code",
      "metadata": {
        "ExecuteTime": {
          "end_time": "2020-10-11T07:27:47.626671Z",
          "start_time": "2020-10-11T07:27:47.622671Z"
        },
        "id": "4ad2mKHZx4lV"
      },
      "source": [
        "batchsize, maps, h, w = 1, 1, 3, 3\n",
        "data = (np.arange(batchsize * maps * h * w).reshape(batchsize, maps, h, w).astype(np.float32))"
      ],
      "execution_count": null,
      "outputs": []
    },
    {
      "cell_type": "code",
      "metadata": {
        "ExecuteTime": {
          "end_time": "2020-10-11T07:27:47.681674Z",
          "start_time": "2020-10-11T07:27:47.677674Z"
        },
        "id": "UHEx2Khpx4lW"
      },
      "source": [
        "data"
      ],
      "execution_count": null,
      "outputs": []
    },
    {
      "cell_type": "code",
      "metadata": {
        "id": "Ypl2z6gFx4lW"
      },
      "source": [],
      "execution_count": null,
      "outputs": []
    }
  ]
}